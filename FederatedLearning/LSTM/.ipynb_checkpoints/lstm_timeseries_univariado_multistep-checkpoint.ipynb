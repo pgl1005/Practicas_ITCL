{
 "cells": [
  {
   "cell_type": "markdown",
   "metadata": {
    "id": "RjNdt4kC7hTA"
   },
   "source": [
    "# *FORECASTING* CON REDES LSTM - PARTE 3: MODELO UNIVARIADO - MULTISTEP"
   ]
  },
  {
   "cell_type": "markdown",
   "metadata": {
    "id": "QiP8J5o6qgvN"
   },
   "source": [
    "## Contenido\n",
    "\n",
    "1. [Introducción](#scrollTo=wHQ1yXwrk6CN)\n",
    "2. [El set de datos](#scrollTo=QDm0J6L-7rGI&line=1&uniqifier=1)\n",
    "3. [El problema a resolver](#scrollTo=CBJV_YRvj5CZ&line=1&uniqifier=1)\n",
    "4. [Lectura del set de datos](#scrollTo=Es6L4nEckb3S&line=1&uniqifier=1)\n",
    "5. [Pre-procesamiento](#scrollTo=vd5lyqNrlfFg)\n",
    "6. [Creación y entrenamiento del modelo](#scrollTo=016D9eVw3Beb)\n",
    "7. [Desempeño del modelo](#scrollTo=ZkI9vr5S69i_)\n",
    "8. [Predicciones con el modelo entrenado](#scrollTo=fvqk4f8L3aXE&line=1&uniqifier=1)\n",
    "9. [Conclusiones y sugerencias](#scrollTo=0AFY2trj_KLo&line=1&uniqifier=1)"
   ]
  },
  {
   "cell_type": "markdown",
   "metadata": {
    "id": "wHQ1yXwrk6CN"
   },
   "source": [
    "## 1. Introducción\n",
    "\n",
    "En los tres primeros videos de esta serie hemos visto un panorama general sobre los tipos de predicción y el pre-procesamiento que debemos hacer sobre los datos, así como la implementación del modelo de predicción más sencillo de todos: la Red LSTM univariada-unistep.\n",
    "\n",
    "En este video veremos cómo implementar una Red LSTM que tome a la entrada una sola variable y que a la salida prediga múltiples instantes de tiempo. Así que veremos cómo implementar un modelo de predicción univariado y multistep.\n",
    "\n",
    "Tomaremos como base la mayor parte del código que implementamos en el video anterior, aunque haremos algunas modificaciones al pre-procesamiento de los datos y a la Red LSTM para poder generar predicciones multi-step."
   ]
  },
  {
   "cell_type": "markdown",
   "metadata": {
    "id": "QDm0J6L-7rGI"
   },
   "source": [
    "## 2. El set de datos\n",
    "\n",
    "Recordemos que estamos usando el  [weather dataset](https://www.bgc-jena.mpg.de/wetter/weather_data.html), un set de datos que contiene el registro histórico de 14 diferentes variables climáticas en el período entre 2009 y 2015.\n",
    "\n",
    "En el segundo video de la serie realizamos el análisis exploratorio del dataset y realizamos este pre-procesamiento:\n",
    "\n",
    "1. Hicimos el manejo de datos faltantes\n",
    "2. Verificamos que el dataset no tuviese valores extremos\n",
    "3. Re-interpolamos el dataset para garantizar una periodicidad de 1 hora\n",
    "\n",
    "Este será el set de datos que usaremos en este tutorial."
   ]
  },
  {
   "cell_type": "markdown",
   "metadata": {
    "id": "CBJV_YRvj5CZ"
   },
   "source": [
    "## 3. El problema a resolver\n",
    "\n",
    "Crear y entrenar una Red LSTM usando el enfoque univariado + multi-step:\n",
    "\n",
    "![](https://drive.google.com/uc?export=view&id=15f7JrWSqoanfqMvselC67AtNWTrdiwPy)\n",
    "\n",
    "De nuevo la variable de entrada y de salida al modelo seguirá siendo una sóla: la temperatura.\n",
    "\n",
    "En lo que resta de este tutorial haremos uso de buena parte de la implementación realizada en el video anterior (modelo univariado + uni-step) y nos enfocaremos sólo en algunas diferencias:\n",
    "\n",
    "- **Pre-procesamiento**: modificaremos la creación del dataset supervisado, para que en lugar de 1 instante de tiempo a futuro el dataset contenga 4 horas de temperatura a futuro\n",
    "- **Red LSTM**: seguirá aceptando el mismo número de horas consecutivas a la entrada (24 horas) pero generará 4 horas de predicción a la salida.\n",
    "- **Desempeño del modelo**: como ahora generará 4 instantes de tiempo consecutivos y no sólo 1 durante la predicción, veremos una forma de analizar el desempeño del modelo en este caso."
   ]
  },
  {
   "cell_type": "markdown",
   "metadata": {
    "id": "Es6L4nEckb3S"
   },
   "source": [
    "## 4. Lectura del set de datos\n",
    "\n",
    "Recordemos que usaremos el dataset implementado en el [segundo video de la serie](https://youtu.be/R8MEPGn9sFI), sobre el cual ya hemos hecho un pre-procesamiento previo:"
   ]
  },
  {
   "cell_type": "code",
   "execution_count": 1,
   "metadata": {
    "colab": {
     "base_uri": "https://localhost:8080/",
     "height": 886
    },
    "executionInfo": {
     "elapsed": 28603,
     "status": "ok",
     "timestamp": 1682438806939,
     "user": {
      "displayName": "Miguel Sotaquirá",
      "userId": "16233284746872182672"
     },
     "user_tz": 300
    },
    "id": "GvROsCTA8nSB",
    "outputId": "ea7478b5-92e1-46aa-b0b7-3d26a6585db0"
   },
   "outputs": [
    {
     "data": {
      "text/html": [
       "<div>\n",
       "<style scoped>\n",
       "    .dataframe tbody tr th:only-of-type {\n",
       "        vertical-align: middle;\n",
       "    }\n",
       "\n",
       "    .dataframe tbody tr th {\n",
       "        vertical-align: top;\n",
       "    }\n",
       "\n",
       "    .dataframe thead th {\n",
       "        text-align: right;\n",
       "    }\n",
       "</style>\n",
       "<table border=\"1\" class=\"dataframe\">\n",
       "  <thead>\n",
       "    <tr style=\"text-align: right;\">\n",
       "      <th></th>\n",
       "      <th>datetime</th>\n",
       "      <th>p (mbar)</th>\n",
       "      <th>T (degC)</th>\n",
       "      <th>Tpot (K)</th>\n",
       "      <th>Tdew (degC)</th>\n",
       "      <th>rh (%)</th>\n",
       "      <th>VPmax (mbar)</th>\n",
       "      <th>VPact (mbar)</th>\n",
       "      <th>VPdef (mbar)</th>\n",
       "      <th>sh (g/kg)</th>\n",
       "      <th>H2OC (mmol/mol)</th>\n",
       "      <th>rho (g/m**3)</th>\n",
       "      <th>wv (m/s)</th>\n",
       "      <th>max. wv (m/s)</th>\n",
       "      <th>wd (deg)</th>\n",
       "    </tr>\n",
       "  </thead>\n",
       "  <tbody>\n",
       "    <tr>\n",
       "      <th>0</th>\n",
       "      <td>2009-01-01 01:00:00</td>\n",
       "      <td>996.50</td>\n",
       "      <td>-8.05</td>\n",
       "      <td>265.38</td>\n",
       "      <td>-8.78</td>\n",
       "      <td>94.40</td>\n",
       "      <td>3.33</td>\n",
       "      <td>3.14</td>\n",
       "      <td>0.19</td>\n",
       "      <td>1.96</td>\n",
       "      <td>3.15</td>\n",
       "      <td>1307.86</td>\n",
       "      <td>0.21</td>\n",
       "      <td>0.63</td>\n",
       "      <td>192.7</td>\n",
       "    </tr>\n",
       "    <tr>\n",
       "      <th>1</th>\n",
       "      <td>2009-01-01 02:00:00</td>\n",
       "      <td>996.62</td>\n",
       "      <td>-8.88</td>\n",
       "      <td>264.54</td>\n",
       "      <td>-9.77</td>\n",
       "      <td>93.20</td>\n",
       "      <td>3.12</td>\n",
       "      <td>2.90</td>\n",
       "      <td>0.21</td>\n",
       "      <td>1.81</td>\n",
       "      <td>2.91</td>\n",
       "      <td>1312.25</td>\n",
       "      <td>0.25</td>\n",
       "      <td>0.63</td>\n",
       "      <td>190.3</td>\n",
       "    </tr>\n",
       "    <tr>\n",
       "      <th>2</th>\n",
       "      <td>2009-01-01 03:00:00</td>\n",
       "      <td>996.84</td>\n",
       "      <td>-8.81</td>\n",
       "      <td>264.59</td>\n",
       "      <td>-9.66</td>\n",
       "      <td>93.50</td>\n",
       "      <td>3.13</td>\n",
       "      <td>2.93</td>\n",
       "      <td>0.20</td>\n",
       "      <td>1.83</td>\n",
       "      <td>2.94</td>\n",
       "      <td>1312.18</td>\n",
       "      <td>0.18</td>\n",
       "      <td>0.63</td>\n",
       "      <td>167.2</td>\n",
       "    </tr>\n",
       "    <tr>\n",
       "      <th>3</th>\n",
       "      <td>2009-01-01 04:00:00</td>\n",
       "      <td>996.99</td>\n",
       "      <td>-9.05</td>\n",
       "      <td>264.34</td>\n",
       "      <td>-10.02</td>\n",
       "      <td>92.60</td>\n",
       "      <td>3.07</td>\n",
       "      <td>2.85</td>\n",
       "      <td>0.23</td>\n",
       "      <td>1.78</td>\n",
       "      <td>2.85</td>\n",
       "      <td>1313.61</td>\n",
       "      <td>0.10</td>\n",
       "      <td>0.38</td>\n",
       "      <td>240.0</td>\n",
       "    </tr>\n",
       "    <tr>\n",
       "      <th>4</th>\n",
       "      <td>2009-01-01 05:00:00</td>\n",
       "      <td>997.46</td>\n",
       "      <td>-9.63</td>\n",
       "      <td>263.72</td>\n",
       "      <td>-10.65</td>\n",
       "      <td>92.20</td>\n",
       "      <td>2.94</td>\n",
       "      <td>2.71</td>\n",
       "      <td>0.23</td>\n",
       "      <td>1.69</td>\n",
       "      <td>2.71</td>\n",
       "      <td>1317.19</td>\n",
       "      <td>0.40</td>\n",
       "      <td>0.88</td>\n",
       "      <td>157.0</td>\n",
       "    </tr>\n",
       "    <tr>\n",
       "      <th>...</th>\n",
       "      <td>...</td>\n",
       "      <td>...</td>\n",
       "      <td>...</td>\n",
       "      <td>...</td>\n",
       "      <td>...</td>\n",
       "      <td>...</td>\n",
       "      <td>...</td>\n",
       "      <td>...</td>\n",
       "      <td>...</td>\n",
       "      <td>...</td>\n",
       "      <td>...</td>\n",
       "      <td>...</td>\n",
       "      <td>...</td>\n",
       "      <td>...</td>\n",
       "      <td>...</td>\n",
       "    </tr>\n",
       "    <tr>\n",
       "      <th>50219</th>\n",
       "      <td>2014-09-24 12:00:00</td>\n",
       "      <td>987.01</td>\n",
       "      <td>13.69</td>\n",
       "      <td>287.92</td>\n",
       "      <td>6.29</td>\n",
       "      <td>60.85</td>\n",
       "      <td>15.69</td>\n",
       "      <td>9.55</td>\n",
       "      <td>6.14</td>\n",
       "      <td>6.04</td>\n",
       "      <td>9.67</td>\n",
       "      <td>1194.28</td>\n",
       "      <td>2.92</td>\n",
       "      <td>4.00</td>\n",
       "      <td>174.1</td>\n",
       "    </tr>\n",
       "    <tr>\n",
       "      <th>50220</th>\n",
       "      <td>2014-09-24 13:00:00</td>\n",
       "      <td>986.55</td>\n",
       "      <td>14.19</td>\n",
       "      <td>288.47</td>\n",
       "      <td>6.80</td>\n",
       "      <td>61.01</td>\n",
       "      <td>16.21</td>\n",
       "      <td>9.89</td>\n",
       "      <td>6.32</td>\n",
       "      <td>6.26</td>\n",
       "      <td>10.02</td>\n",
       "      <td>1191.48</td>\n",
       "      <td>1.57</td>\n",
       "      <td>2.48</td>\n",
       "      <td>173.0</td>\n",
       "    </tr>\n",
       "    <tr>\n",
       "      <th>50221</th>\n",
       "      <td>2014-09-24 14:00:00</td>\n",
       "      <td>986.21</td>\n",
       "      <td>14.99</td>\n",
       "      <td>289.30</td>\n",
       "      <td>6.70</td>\n",
       "      <td>57.54</td>\n",
       "      <td>17.07</td>\n",
       "      <td>9.82</td>\n",
       "      <td>7.25</td>\n",
       "      <td>6.22</td>\n",
       "      <td>9.96</td>\n",
       "      <td>1187.80</td>\n",
       "      <td>2.79</td>\n",
       "      <td>4.75</td>\n",
       "      <td>202.5</td>\n",
       "    </tr>\n",
       "    <tr>\n",
       "      <th>50222</th>\n",
       "      <td>2014-09-24 15:00:00</td>\n",
       "      <td>984.76</td>\n",
       "      <td>15.20</td>\n",
       "      <td>289.63</td>\n",
       "      <td>6.96</td>\n",
       "      <td>57.79</td>\n",
       "      <td>17.30</td>\n",
       "      <td>10.00</td>\n",
       "      <td>7.30</td>\n",
       "      <td>6.34</td>\n",
       "      <td>10.15</td>\n",
       "      <td>1185.10</td>\n",
       "      <td>2.86</td>\n",
       "      <td>4.32</td>\n",
       "      <td>172.0</td>\n",
       "    </tr>\n",
       "    <tr>\n",
       "      <th>50223</th>\n",
       "      <td>2014-09-24 16:00:00</td>\n",
       "      <td>984.61</td>\n",
       "      <td>14.40</td>\n",
       "      <td>288.84</td>\n",
       "      <td>7.00</td>\n",
       "      <td>61.03</td>\n",
       "      <td>16.43</td>\n",
       "      <td>10.03</td>\n",
       "      <td>6.40</td>\n",
       "      <td>6.36</td>\n",
       "      <td>10.18</td>\n",
       "      <td>1188.20</td>\n",
       "      <td>1.71</td>\n",
       "      <td>2.44</td>\n",
       "      <td>195.1</td>\n",
       "    </tr>\n",
       "  </tbody>\n",
       "</table>\n",
       "<p>50224 rows × 15 columns</p>\n",
       "</div>"
      ],
      "text/plain": [
       "                  datetime  p (mbar)  T (degC)  Tpot (K)  Tdew (degC)  rh (%)  \\\n",
       "0      2009-01-01 01:00:00    996.50     -8.05    265.38        -8.78   94.40   \n",
       "1      2009-01-01 02:00:00    996.62     -8.88    264.54        -9.77   93.20   \n",
       "2      2009-01-01 03:00:00    996.84     -8.81    264.59        -9.66   93.50   \n",
       "3      2009-01-01 04:00:00    996.99     -9.05    264.34       -10.02   92.60   \n",
       "4      2009-01-01 05:00:00    997.46     -9.63    263.72       -10.65   92.20   \n",
       "...                    ...       ...       ...       ...          ...     ...   \n",
       "50219  2014-09-24 12:00:00    987.01     13.69    287.92         6.29   60.85   \n",
       "50220  2014-09-24 13:00:00    986.55     14.19    288.47         6.80   61.01   \n",
       "50221  2014-09-24 14:00:00    986.21     14.99    289.30         6.70   57.54   \n",
       "50222  2014-09-24 15:00:00    984.76     15.20    289.63         6.96   57.79   \n",
       "50223  2014-09-24 16:00:00    984.61     14.40    288.84         7.00   61.03   \n",
       "\n",
       "       VPmax (mbar)  VPact (mbar)  VPdef (mbar)  sh (g/kg)  H2OC (mmol/mol)  \\\n",
       "0              3.33          3.14          0.19       1.96             3.15   \n",
       "1              3.12          2.90          0.21       1.81             2.91   \n",
       "2              3.13          2.93          0.20       1.83             2.94   \n",
       "3              3.07          2.85          0.23       1.78             2.85   \n",
       "4              2.94          2.71          0.23       1.69             2.71   \n",
       "...             ...           ...           ...        ...              ...   \n",
       "50219         15.69          9.55          6.14       6.04             9.67   \n",
       "50220         16.21          9.89          6.32       6.26            10.02   \n",
       "50221         17.07          9.82          7.25       6.22             9.96   \n",
       "50222         17.30         10.00          7.30       6.34            10.15   \n",
       "50223         16.43         10.03          6.40       6.36            10.18   \n",
       "\n",
       "       rho (g/m**3)  wv (m/s)  max. wv (m/s)  wd (deg)  \n",
       "0           1307.86      0.21           0.63     192.7  \n",
       "1           1312.25      0.25           0.63     190.3  \n",
       "2           1312.18      0.18           0.63     167.2  \n",
       "3           1313.61      0.10           0.38     240.0  \n",
       "4           1317.19      0.40           0.88     157.0  \n",
       "...             ...       ...            ...       ...  \n",
       "50219       1194.28      2.92           4.00     174.1  \n",
       "50220       1191.48      1.57           2.48     173.0  \n",
       "50221       1187.80      2.79           4.75     202.5  \n",
       "50222       1185.10      2.86           4.32     172.0  \n",
       "50223       1188.20      1.71           2.44     195.1  \n",
       "\n",
       "[50224 rows x 15 columns]"
      ]
     },
     "execution_count": 1,
     "metadata": {},
     "output_type": "execute_result"
    }
   ],
   "source": [
    "import pandas as pd\n",
    "import matplotlib.pyplot as plt\n",
    "import numpy as np\n",
    "\n",
    "# Leer set de datos\n",
    "df = pd.read_csv('weather_dataset_preprocesado.csv')\n",
    "df"
   ]
  },
  {
   "cell_type": "markdown",
   "metadata": {
    "id": "vd5lyqNrlfFg"
   },
   "source": [
    "## 5. Pre-procesamiento\n",
    "\n",
    "Implica:\n",
    "\n",
    "1. Partición en train/val/test (80%, 10%, 10%).\n",
    "2. Generación del dataset supervisado: entrada y salida del modelo\n",
    "3. Escalamiento\n",
    "\n",
    "En las fases (1) y (3) usaremos la misma implementación del tutorial anterior, así que nos enfocaremos principalmente en la fase (2) (generación del dataset supervisado)."
   ]
  },
  {
   "cell_type": "markdown",
   "metadata": {
    "id": "hliQnKgIdfkF"
   },
   "source": [
    "### 5.1. Partición del set en entrenamiento, validación y prueba\n",
    "\n",
    "A diferencia de otros modelos de Machine Learning, en el caso de series de tiempo **se debe garantizar que se generan las particiones sin mezclar aleatoriamente los datos**.\n",
    "\n",
    "Recordemos además que:\n",
    "- El set de entrenamiento (*train*) se usará para encontrar los parámetros del modelo\n",
    "- El set de validación (*val*) para verificar que no haya *under/over-fitting* del modelo y para ajustar sus hiperparámetros\n",
    "- El set de prueba (*test*) para poner a prueba el mejor modelo encontrado durante el entrenamiento/validación"
   ]
  },
  {
   "cell_type": "code",
   "execution_count": 2,
   "metadata": {
    "colab": {
     "base_uri": "https://localhost:8080/"
    },
    "executionInfo": {
     "elapsed": 536,
     "status": "ok",
     "timestamp": 1682438855179,
     "user": {
      "displayName": "Miguel Sotaquirá",
      "userId": "16233284746872182672"
     },
     "user_tz": 300
    },
    "id": "0U1B93AsdfHI",
    "outputId": "3ae0be78-63bf-4910-9850-638f27503494"
   },
   "outputs": [
    {
     "name": "stdout",
     "output_type": "stream",
     "text": [
      "Tamaño set de entrenamiento: (40179,)\n",
      "Tamaño set de validación: (5022,)\n",
      "Tamaño set de prueba: (5023,)\n"
     ]
    }
   ],
   "source": [
    "# Función para generar las particiones preservando las características\n",
    "# de la serie de tiempo\n",
    "\n",
    "def train_val_test_split(serie, tr_size=0.8, vl_size=0.1, ts_size=0.1 ):\n",
    "    # Definir número de datos en cada subserie\n",
    "    N = serie.shape[0]\n",
    "    Ntrain = int(tr_size*N)  # Número de datos de entrenamiento\n",
    "    Nval = int(vl_size*N)    # Número de datos de validación\n",
    "    Ntst = N - Ntrain - Nval # Número de datos de prueba\n",
    "\n",
    "    # Realizar partición\n",
    "    train = serie[0:Ntrain]\n",
    "    val = serie[Ntrain:Ntrain+Nval]\n",
    "    test = serie[Ntrain+Nval:]\n",
    "\n",
    "    return train, val, test\n",
    "\n",
    "# Prueba de la función\n",
    "tr, vl, ts = train_val_test_split(df['T (degC)'])\n",
    "\n",
    "print(f'Tamaño set de entrenamiento: {tr.shape}')\n",
    "print(f'Tamaño set de validación: {vl.shape}')\n",
    "print(f'Tamaño set de prueba: {ts.shape}')"
   ]
  },
  {
   "cell_type": "code",
   "execution_count": 3,
   "metadata": {
    "colab": {
     "base_uri": "https://localhost:8080/",
     "height": 340
    },
    "executionInfo": {
     "elapsed": 1771,
     "status": "ok",
     "timestamp": 1682438876534,
     "user": {
      "displayName": "Miguel Sotaquirá",
      "userId": "16233284746872182672"
     },
     "user_tz": 300
    },
    "id": "-dqJPg1o-s8c",
    "outputId": "b8591024-2825-45f7-de65-893a808d0428"
   },
   "outputs": [
    {
     "data": {
      "image/png": "[encoded data removed]",
      "text/plain": [
       "<Figure size 1600x500 with 1 Axes>"
      ]
     },
     "metadata": {},
     "output_type": "display_data"
    }
   ],
   "source": [
    "# Dibujemos los subsets\n",
    "fig, ax = plt.subplots(figsize = (16,5))\n",
    "ax.plot(tr, label='Train')\n",
    "ax.plot(vl, label='Val')\n",
    "ax.plot(ts, label='Test')\n",
    "plt.legend();"
   ]
  },
  {
   "cell_type": "markdown",
   "metadata": {
    "id": "mPn7OiB1gBZZ"
   },
   "source": [
    "Observemos que por ser un modelo univariado sólo estamos preservando la variable temperatura (y que incluso hemos eliminado la información de fecha y hora de cada registro)."
   ]
  },
  {
   "cell_type": "markdown",
   "metadata": {
    "id": "uPygLImygXzB"
   },
   "source": [
    "### 5.2 Generación del dataset supervisado (entrada y salida del modelo)\n",
    "\n",
    "Debemos ajustar nuestro set de datos de acuerdo a lo especificado en la [documentación de las Redes LSTM en TensorFlow/Keras](https://www.tensorflow.org/api_docs/python/tf/keras/layers/LSTM):\n",
    "\n",
    "![](https://drive.google.com/uc?export=view&id=167iC5It71vi9QrsjFyEHsU3mGyXbCEPe)"
   ]
  },
  {
   "cell_type": "markdown",
   "metadata": {
    "id": "2yN8RQ1AGxMZ"
   },
   "source": [
    "Así que en este caso cada dato de entrenamiento será:\n",
    "\n",
    "- Un arreglo de 24 (horas) x 1 (feature) correspondiente a la entrada\n",
    "- Un arreglo de 4 (hora) x 1 (feature) correspondiente a la hora 25 (a predecir):\n",
    "\n",
    "![](https://drive.google.com/uc?export=view&id=16B13bFGkdMkO2UudYBowp6AAA8szblm-)\n",
    "\n",
    "La única diferencia con relación al set de datos supervisado usado en el enfoque univariado + uni-step es que a la salida vamos a predecir 4 horas y no sólo 1.\n",
    "\n",
    "Este parámetro de salida (`OUTPUT_LENGTH = 4`) se convierte en un hiperparámetro que terminará afectando el desempeño de la Red LSTM al momento de hacer las predicciones.\n",
    "\n",
    "Y usaremos la misma función creada en el tutorial anterior:"
   ]
  },
  {
   "cell_type": "code",
   "execution_count": 4,
   "metadata": {
    "executionInfo": {
     "elapsed": 321,
     "status": "ok",
     "timestamp": 1682439059068,
     "user": {
      "displayName": "Miguel Sotaquirá",
      "userId": "16233284746872182672"
     },
     "user_tz": 300
    },
    "id": "EuW8oY1QfnLQ"
   },
   "outputs": [],
   "source": [
    "def crear_dataset_supervisado(array, input_length, output_length):\n",
    "    '''Permite crear un dataset con las entradas (X) y salidas (Y)\n",
    "    requeridas por la Red LSTM.\n",
    "\n",
    "    Parámetros:\n",
    "    - array: arreglo numpy de tamaño N x features (N: cantidad de datos,\n",
    "      f: cantidad de features)\n",
    "    - input_length: instantes de tiempo consecutivos de la(s) serie(s) de tiempo\n",
    "      usados para alimentar el modelo\n",
    "    - output_length: instantes de tiempo a pronosticar (salida del modelo)\n",
    "    '''\n",
    "\n",
    "    # Inicialización\n",
    "    X, Y = [], []    # Listados que contendrán los datos de entrada y salida del modelo\n",
    "    shape = array.shape\n",
    "    if len(shape)==1: # Si tenemos sólo una serie (univariado)\n",
    "        fils, cols = array.shape[0], 1\n",
    "        array = array.reshape(fils,cols)\n",
    "    else: # Multivariado\n",
    "        fils, cols = array.shape\n",
    "\n",
    "    # Generar los arreglos\n",
    "    for i in range(fils-input_length-output_length):\n",
    "        X.append(array[i:i+INPUT_LENGTH,0:cols])\n",
    "        Y.append(array[i+input_length:i+input_length+output_length,-1].reshape(output_length,1))\n",
    "    \n",
    "    # Convertir listas a arreglos de NumPy\n",
    "    X = np.array(X)\n",
    "    Y = np.array(Y)\n",
    "    \n",
    "    return X, Y"
   ]
  },
  {
   "cell_type": "code",
   "execution_count": 5,
   "metadata": {
    "colab": {
     "base_uri": "https://localhost:8080/"
    },
    "executionInfo": {
     "elapsed": 1257,
     "status": "ok",
     "timestamp": 1682439067042,
     "user": {
      "displayName": "Miguel Sotaquirá",
      "userId": "16233284746872182672"
     },
     "user_tz": 300
    },
    "id": "bC1cEb9Q0YkX",
    "outputId": "59ea1e71-cc7e-48e4-837c-b214bc6c5539"
   },
   "outputs": [
    {
     "name": "stdout",
     "output_type": "stream",
     "text": [
      "Tamaños entrada (BATCHES x INPUT_LENGTH x FEATURES) y de salida (BATCHES x OUTPUT_LENGTH x FEATURES)\n",
      "Set de entrenamiento - x_tr: (40151, 24, 1), y_tr: (40151, 4, 1)\n",
      "Set de validación - x_vl: (4994, 24, 1), y_vl: (4994, 4, 1)\n",
      "Set de prueba - x_ts: (4995, 24, 1), y_ts: (4995, 4, 1)\n"
     ]
    }
   ],
   "source": [
    "# Crear los datasets de entrenamiento, prueba y validación y verificar sus tamaños\n",
    "INPUT_LENGTH = 24    # Posteriormente afinaremos este hiperparámetro\n",
    "OUTPUT_LENGTH = 4    # Modelo uni-step: ***EL ÚNICO CAMBIO QUE DEBEMOS HACER***\n",
    "\n",
    "x_tr, y_tr = crear_dataset_supervisado(tr.values, INPUT_LENGTH, OUTPUT_LENGTH)\n",
    "x_vl, y_vl = crear_dataset_supervisado(vl.values, INPUT_LENGTH, OUTPUT_LENGTH)\n",
    "x_ts, y_ts = crear_dataset_supervisado(ts.values, INPUT_LENGTH, OUTPUT_LENGTH)\n",
    "\n",
    "# Imprimir información en pantalla\n",
    "print('Tamaños entrada (BATCHES x INPUT_LENGTH x FEATURES) y de salida (BATCHES x OUTPUT_LENGTH x FEATURES)')\n",
    "print(f'Set de entrenamiento - x_tr: {x_tr.shape}, y_tr: {y_tr.shape}')\n",
    "print(f'Set de validación - x_vl: {x_vl.shape}, y_vl: {y_vl.shape}')\n",
    "print(f'Set de prueba - x_ts: {x_ts.shape}, y_ts: {y_ts.shape}')"
   ]
  },
  {
   "cell_type": "markdown",
   "metadata": {
    "id": "T8Oqcn_FwEXW"
   },
   "source": [
    "### 5.3 Escalamiento\n",
    "\n",
    "Es requerido para garantizar que todas las características se encuentran en el mismo rango de valores, lo que facilita el entrenamiento del modelo y las predicciones:"
   ]
  },
  {
   "cell_type": "code",
   "execution_count": 6,
   "metadata": {
    "executionInfo": {
     "elapsed": 1896,
     "status": "ok",
     "timestamp": 1682439159412,
     "user": {
      "displayName": "Miguel Sotaquirá",
      "userId": "16233284746872182672"
     },
     "user_tz": 300
    },
    "id": "0O-_M_AIj5nR"
   },
   "outputs": [],
   "source": [
    "from sklearn.preprocessing import MinMaxScaler\n",
    "\n",
    "def escalar_dataset(data_input):\n",
    "    '''Escala el dataset en el rango de -1 a 1.\n",
    "\n",
    "    Entradas:\n",
    "    data_input: diccionario con los dataset de entrada y salida del modelo\n",
    "    (data_input = {'x_tr':x_tr, 'y_tr':y_tr, 'x_vl':x_vl, 'y_vl':y_vl,\n",
    "                    'y_ts':y_ts})\n",
    "    \n",
    "    Retorna:\n",
    "    - data_scaled: diccionario con los datasets de entrada y salida escalados\n",
    "      (tiene la misma estructura del diccionario de entrada)\n",
    "    - scaler: el escalador usado (requerido para las predicciones)\n",
    "    '''\n",
    "\n",
    "    NFEATS = data_input['x_tr'].shape[2]\n",
    "\n",
    "    # Generar listado con \"scalers\" (en este caso, por ser sólo 1 característica\n",
    "    # se tendrá sólo 1 escalador)\n",
    "    scalers = [MinMaxScaler(feature_range=(-1,1)) for i in range(NFEATS)]\n",
    "\n",
    "    # Arreglos que contendrán los datasets escalados\n",
    "    x_tr_s = np.zeros(data_input['x_tr'].shape)\n",
    "    x_vl_s = np.zeros(data_input['x_vl'].shape)\n",
    "    x_ts_s = np.zeros(data_input['x_ts'].shape)\n",
    "    y_tr_s = np.zeros(data_input['y_tr'].shape)\n",
    "    y_vl_s = np.zeros(data_input['y_vl'].shape)\n",
    "    y_ts_s = np.zeros(data_input['y_ts'].shape)\n",
    "\n",
    "    # Escalamiento: se usarán los min/max del set de entrenamiento para\n",
    "    # escalar la totalidad de los datasets\n",
    "\n",
    "    # Escalamiento Xs\n",
    "    for i in range(NFEATS):\n",
    "        x_tr_s[:,:,i] = scalers[i].fit_transform(x_tr[:,:,i])\n",
    "        x_vl_s[:,:,i] = scalers[i].transform(x_vl[:,:,i])\n",
    "        x_ts_s[:,:,i] = scalers[i].transform(x_ts[:,:,i])\n",
    "    \n",
    "    # Escalamiento Ys\n",
    "    y_tr_s[:,:,0] = scalers[-1].fit_transform(y_tr[:,:,0])\n",
    "    y_vl_s[:,:,0] = scalers[-1].transform(y_vl[:,:,0])\n",
    "    y_ts_s[:,:,0] = scalers[-1].transform(y_ts[:,:,0])\n",
    "\n",
    "    # Conformar diccionario de salida\n",
    "    data_scaled = {\n",
    "        'x_tr_s': x_tr_s, 'y_tr_s': y_tr_s,\n",
    "        'x_vl_s': x_vl_s, 'y_vl_s': y_vl_s,\n",
    "        'x_ts_s': x_ts_s, 'y_ts_s': y_ts_s,\n",
    "    }\n",
    "\n",
    "    return data_scaled, scalers[0]"
   ]
  },
  {
   "cell_type": "code",
   "execution_count": 7,
   "metadata": {
    "colab": {
     "base_uri": "https://localhost:8080/"
    },
    "executionInfo": {
     "elapsed": 329,
     "status": "ok",
     "timestamp": 1682439190909,
     "user": {
      "displayName": "Miguel Sotaquirá",
      "userId": "16233284746872182672"
     },
     "user_tz": 300
    },
    "id": "22NBDLIx0OLw",
    "outputId": "2da04056-dd5a-488d-bc6f-8c163812bb24"
   },
   "outputs": [
    {
     "name": "stdout",
     "output_type": "stream",
     "text": [
      "Min x_tr/x_vl/x_ts sin escalamiento: -22.76/-9.92/-2.64\n",
      "Min x_tr/x_vl/x_ts con escalamiento: -1.0/-0.5603492552645094/-0.31107687039890414\n",
      "\n",
      "Min y_tr/y_vl/y_ts sin escalamiento: -22.76/-9.92/-2.64\n",
      "Min y_tr/y_vl/y_ts con escalamiento: -1.0/-0.5603492552645094/-0.31107687039890414\n",
      "\n",
      "Max x_tr/x_vl/x_ts sin escalamiento: 35.65/34.34/33.68\n",
      "Max x_tr/x_vl/x_ts con escalamiento: 1.0000000000000002/0.9551446670090742/0.932545796952577\n",
      "\n",
      "Max y_tr/y_vl/y_ts sin escalamiento: 35.65/31.33/33.68\n",
      "Max y_tr/y_vl/y_ts con escalamiento: 1.0000000000000002/0.8520801232665642/0.932545796952577\n"
     ]
    }
   ],
   "source": [
    "# Escalamiento del dataset con la función anterior\n",
    "\n",
    "# Crear diccionario de entrada\n",
    "data_in = {\n",
    "    'x_tr': x_tr, 'y_tr': y_tr,\n",
    "    'x_vl': x_vl, 'y_vl': y_vl,\n",
    "    'x_ts': x_ts, 'y_ts': y_ts,\n",
    "}\n",
    "\n",
    "# Y escalar\n",
    "data_s, scaler = escalar_dataset(data_in)\n",
    "\n",
    "# Extraer subsets escalados\n",
    "x_tr_s, y_tr_s = data_s['x_tr_s'], data_s['y_tr_s']\n",
    "x_vl_s, y_vl_s = data_s['x_vl_s'], data_s['y_vl_s']\n",
    "x_ts_s, y_ts_s = data_s['x_ts_s'], data_s['y_ts_s']\n",
    "\n",
    "# Verificación\n",
    "print(f'Min x_tr/x_vl/x_ts sin escalamiento: {x_tr.min()}/{x_vl.min()}/{x_ts.min()}')\n",
    "print(f'Min x_tr/x_vl/x_ts con escalamiento: {x_tr_s.min()}/{x_vl_s.min()}/{x_ts_s.min()}')\n",
    "\n",
    "print(f'\\nMin y_tr/y_vl/y_ts sin escalamiento: {y_tr.min()}/{y_vl.min()}/{y_ts.min()}')\n",
    "print(f'Min y_tr/y_vl/y_ts con escalamiento: {y_tr_s.min()}/{y_vl_s.min()}/{y_ts_s.min()}')\n",
    "\n",
    "print(f'\\nMax x_tr/x_vl/x_ts sin escalamiento: {x_tr.max()}/{x_vl.max()}/{x_ts.max()}')\n",
    "print(f'Max x_tr/x_vl/x_ts con escalamiento: {x_tr_s.max()}/{x_vl_s.max()}/{x_ts_s.max()}')\n",
    "\n",
    "print(f'\\nMax y_tr/y_vl/y_ts sin escalamiento: {y_tr.max()}/{y_vl.max()}/{y_ts.max()}')\n",
    "print(f'Max y_tr/y_vl/y_ts con escalamiento: {y_tr_s.max()}/{y_vl_s.max()}/{y_ts_s.max()}')\n"
   ]
  },
  {
   "cell_type": "markdown",
   "metadata": {
    "id": "016D9eVw3Beb"
   },
   "source": [
    "## 6. Creación y entrenamiento del modelo\n",
    "\n",
    "- Entradas: arreglos *x* (batches x input-length  x features = batches x 24 x 1)\n",
    "- Salidas: arreglos *y* (batches x output-length x features = batches x 4 x 1)\n",
    "\n",
    "Usaremos la raíz cuadrada del error cuadrático medio (o RMSE por sus siglas en Inglés: *root mean square error*) como pérdida para entrenar el modelo:\n",
    "\n",
    "$RMSE = \\sqrt{\\frac{\\sum_i (y_i-\\hat{y_i})^2}{N}}$\n",
    "\n",
    "donde:\n",
    "- $y$: temperatura real\n",
    "- $\\hat{y}$: temperatura predicha\n",
    "- $N$: cantidad de predicciones"
   ]
  },
  {
   "cell_type": "code",
   "execution_count": 8,
   "metadata": {
    "colab": {
     "base_uri": "https://localhost:8080/"
    },
    "executionInfo": {
     "elapsed": 91399,
     "status": "ok",
     "timestamp": 1682439465113,
     "user": {
      "displayName": "Miguel Sotaquirá",
      "userId": "16233284746872182672"
     },
     "user_tz": 300
    },
    "id": "ZzLT0-UP02FP",
    "outputId": "48046afd-a117-438e-da80-1bc6ba0a035c"
   },
   "outputs": [
    {
     "name": "stderr",
     "output_type": "stream",
     "text": [
      "C:\\Users\\grego\\anaconda3\\Lib\\site-packages\\keras\\src\\layers\\rnn\\rnn.py:204: UserWarning: Do not pass an `input_shape`/`input_dim` argument to a layer. When using Sequential models, prefer using an `Input(shape)` object as the first layer in the model instead.\n",
      "  super().__init__(**kwargs)\n"
     ]
    },
    {
     "name": "stdout",
     "output_type": "stream",
     "text": [
      "Epoch 1/80\n",
      "157/157 - 15s - 93ms/step - loss: 0.2260 - val_loss: 0.1056\n",
      "Epoch 2/80\n",
      "157/157 - 14s - 90ms/step - loss: 0.1222 - val_loss: 0.1005\n",
      "Epoch 3/80\n",
      "157/157 - 15s - 94ms/step - loss: 0.1160 - val_loss: 0.0971\n",
      "Epoch 4/80\n",
      "157/157 - 15s - 93ms/step - loss: 0.1107 - val_loss: 0.0939\n",
      "Epoch 5/80\n",
      "157/157 - 15s - 97ms/step - loss: 0.1057 - val_loss: 0.0906\n",
      "Epoch 6/80\n",
      "157/157 - 16s - 100ms/step - loss: 0.1008 - val_loss: 0.0873\n",
      "Epoch 7/80\n",
      "157/157 - 16s - 101ms/step - loss: 0.0961 - val_loss: 0.0841\n",
      "Epoch 8/80\n",
      "157/157 - 15s - 99ms/step - loss: 0.0920 - val_loss: 0.0814\n",
      "Epoch 9/80\n",
      "157/157 - 15s - 96ms/step - loss: 0.0887 - val_loss: 0.0791\n",
      "Epoch 10/80\n",
      "157/157 - 14s - 91ms/step - loss: 0.0862 - val_loss: 0.0772\n",
      "Epoch 11/80\n",
      "157/157 - 14s - 92ms/step - loss: 0.0844 - val_loss: 0.0758\n",
      "Epoch 12/80\n",
      "157/157 - 16s - 101ms/step - loss: 0.0830 - val_loss: 0.0745\n",
      "Epoch 13/80\n",
      "157/157 - 16s - 101ms/step - loss: 0.0817 - val_loss: 0.0733\n",
      "Epoch 14/80\n",
      "157/157 - 16s - 100ms/step - loss: 0.0805 - val_loss: 0.0722\n",
      "Epoch 15/80\n",
      "157/157 - 16s - 100ms/step - loss: 0.0792 - val_loss: 0.0711\n",
      "Epoch 16/80\n",
      "157/157 - 16s - 101ms/step - loss: 0.0780 - val_loss: 0.0700\n",
      "Epoch 17/80\n",
      "157/157 - 14s - 92ms/step - loss: 0.0768 - val_loss: 0.0690\n",
      "Epoch 18/80\n",
      "157/157 - 16s - 100ms/step - loss: 0.0755 - val_loss: 0.0679\n",
      "Epoch 19/80\n",
      "157/157 - 13s - 85ms/step - loss: 0.0743 - val_loss: 0.0669\n",
      "Epoch 20/80\n",
      "157/157 - 15s - 95ms/step - loss: 0.0731 - val_loss: 0.0659\n",
      "Epoch 21/80\n",
      "157/157 - 15s - 98ms/step - loss: 0.0719 - val_loss: 0.0650\n",
      "Epoch 22/80\n",
      "157/157 - 16s - 101ms/step - loss: 0.0707 - val_loss: 0.0641\n",
      "Epoch 23/80\n",
      "157/157 - 16s - 100ms/step - loss: 0.0697 - val_loss: 0.0633\n",
      "Epoch 24/80\n",
      "157/157 - 15s - 93ms/step - loss: 0.0687 - val_loss: 0.0626\n",
      "Epoch 25/80\n",
      "157/157 - 13s - 83ms/step - loss: 0.0679 - val_loss: 0.0620\n",
      "Epoch 26/80\n",
      "157/157 - 15s - 95ms/step - loss: 0.0672 - val_loss: 0.0614\n",
      "Epoch 27/80\n",
      "157/157 - 13s - 86ms/step - loss: 0.0665 - val_loss: 0.0610\n",
      "Epoch 28/80\n",
      "157/157 - 16s - 99ms/step - loss: 0.0660 - val_loss: 0.0606\n",
      "Epoch 29/80\n",
      "157/157 - 16s - 99ms/step - loss: 0.0655 - val_loss: 0.0602\n",
      "Epoch 30/80\n",
      "157/157 - 16s - 99ms/step - loss: 0.0651 - val_loss: 0.0598\n",
      "Epoch 31/80\n",
      "157/157 - 15s - 97ms/step - loss: 0.0647 - val_loss: 0.0595\n",
      "Epoch 32/80\n",
      "157/157 - 13s - 85ms/step - loss: 0.0643 - val_loss: 0.0592\n",
      "Epoch 33/80\n",
      "157/157 - 13s - 82ms/step - loss: 0.0639 - val_loss: 0.0589\n",
      "Epoch 34/80\n",
      "157/157 - 13s - 86ms/step - loss: 0.0636 - val_loss: 0.0586\n",
      "Epoch 35/80\n",
      "157/157 - 15s - 93ms/step - loss: 0.0633 - val_loss: 0.0583\n",
      "Epoch 36/80\n",
      "157/157 - 15s - 99ms/step - loss: 0.0630 - val_loss: 0.0580\n",
      "Epoch 37/80\n",
      "157/157 - 15s - 93ms/step - loss: 0.0627 - val_loss: 0.0577\n",
      "Epoch 38/80\n",
      "157/157 - 14s - 88ms/step - loss: 0.0624 - val_loss: 0.0575\n",
      "Epoch 39/80\n",
      "157/157 - 14s - 88ms/step - loss: 0.0621 - val_loss: 0.0572\n",
      "Epoch 40/80\n",
      "157/157 - 15s - 98ms/step - loss: 0.0618 - val_loss: 0.0569\n",
      "Epoch 41/80\n",
      "157/157 - 15s - 97ms/step - loss: 0.0615 - val_loss: 0.0567\n",
      "Epoch 42/80\n",
      "157/157 - 14s - 89ms/step - loss: 0.0613 - val_loss: 0.0564\n",
      "Epoch 43/80\n",
      "157/157 - 14s - 87ms/step - loss: 0.0610 - val_loss: 0.0562\n",
      "Epoch 44/80\n",
      "157/157 - 12s - 80ms/step - loss: 0.0607 - val_loss: 0.0560\n",
      "Epoch 45/80\n",
      "157/157 - 15s - 96ms/step - loss: 0.0605 - val_loss: 0.0557\n",
      "Epoch 46/80\n",
      "157/157 - 15s - 97ms/step - loss: 0.0603 - val_loss: 0.0555\n",
      "Epoch 47/80\n",
      "157/157 - 15s - 95ms/step - loss: 0.0600 - val_loss: 0.0553\n",
      "Epoch 48/80\n",
      "157/157 - 15s - 98ms/step - loss: 0.0598 - val_loss: 0.0551\n",
      "Epoch 49/80\n",
      "157/157 - 15s - 97ms/step - loss: 0.0596 - val_loss: 0.0548\n",
      "Epoch 50/80\n",
      "157/157 - 15s - 98ms/step - loss: 0.0594 - val_loss: 0.0546\n",
      "Epoch 51/80\n",
      "157/157 - 15s - 94ms/step - loss: 0.0592 - val_loss: 0.0544\n",
      "Epoch 52/80\n",
      "157/157 - 13s - 86ms/step - loss: 0.0590 - val_loss: 0.0542\n",
      "Epoch 53/80\n",
      "157/157 - 15s - 95ms/step - loss: 0.0588 - val_loss: 0.0540\n",
      "Epoch 54/80\n",
      "157/157 - 15s - 96ms/step - loss: 0.0586 - val_loss: 0.0539\n",
      "Epoch 55/80\n",
      "157/157 - 15s - 95ms/step - loss: 0.0584 - val_loss: 0.0537\n",
      "Epoch 56/80\n",
      "157/157 - 14s - 92ms/step - loss: 0.0582 - val_loss: 0.0535\n",
      "Epoch 57/80\n",
      "157/157 - 13s - 82ms/step - loss: 0.0580 - val_loss: 0.0533\n",
      "Epoch 58/80\n",
      "157/157 - 15s - 93ms/step - loss: 0.0578 - val_loss: 0.0531\n",
      "Epoch 59/80\n",
      "157/157 - 15s - 93ms/step - loss: 0.0576 - val_loss: 0.0530\n",
      "Epoch 60/80\n",
      "157/157 - 12s - 77ms/step - loss: 0.0574 - val_loss: 0.0528\n",
      "Epoch 61/80\n",
      "157/157 - 14s - 87ms/step - loss: 0.0573 - val_loss: 0.0526\n",
      "Epoch 62/80\n",
      "157/157 - 14s - 88ms/step - loss: 0.0571 - val_loss: 0.0525\n",
      "Epoch 63/80\n",
      "157/157 - 12s - 78ms/step - loss: 0.0569 - val_loss: 0.0523\n",
      "Epoch 64/80\n",
      "157/157 - 12s - 78ms/step - loss: 0.0568 - val_loss: 0.0521\n",
      "Epoch 65/80\n",
      "157/157 - 13s - 81ms/step - loss: 0.0566 - val_loss: 0.0520\n",
      "Epoch 66/80\n",
      "157/157 - 13s - 82ms/step - loss: 0.0564 - val_loss: 0.0518\n",
      "Epoch 67/80\n",
      "157/157 - 12s - 76ms/step - loss: 0.0563 - val_loss: 0.0517\n",
      "Epoch 68/80\n",
      "157/157 - 13s - 84ms/step - loss: 0.0561 - val_loss: 0.0515\n",
      "Epoch 69/80\n",
      "157/157 - 13s - 85ms/step - loss: 0.0560 - val_loss: 0.0514\n",
      "Epoch 70/80\n",
      "157/157 - 14s - 89ms/step - loss: 0.0558 - val_loss: 0.0512\n",
      "Epoch 71/80\n",
      "157/157 - 14s - 92ms/step - loss: 0.0557 - val_loss: 0.0511\n",
      "Epoch 72/80\n",
      "157/157 - 15s - 94ms/step - loss: 0.0555 - val_loss: 0.0509\n",
      "Epoch 73/80\n",
      "157/157 - 15s - 94ms/step - loss: 0.0554 - val_loss: 0.0508\n",
      "Epoch 74/80\n",
      "157/157 - 15s - 93ms/step - loss: 0.0552 - val_loss: 0.0507\n",
      "Epoch 75/80\n",
      "157/157 - 13s - 86ms/step - loss: 0.0551 - val_loss: 0.0505\n",
      "Epoch 76/80\n",
      "157/157 - 13s - 83ms/step - loss: 0.0549 - val_loss: 0.0504\n",
      "Epoch 77/80\n",
      "157/157 - 14s - 88ms/step - loss: 0.0548 - val_loss: 0.0502\n",
      "Epoch 78/80\n",
      "157/157 - 14s - 86ms/step - loss: 0.0547 - val_loss: 0.0501\n",
      "Epoch 79/80\n",
      "157/157 - 14s - 90ms/step - loss: 0.0545 - val_loss: 0.0500\n",
      "Epoch 80/80\n",
      "157/157 - 14s - 91ms/step - loss: 0.0544 - val_loss: 0.0498\n"
     ]
    }
   ],
   "source": [
    "# Creación del modelo\n",
    "from tensorflow.keras.models import Sequential\n",
    "from tensorflow.keras.layers import LSTM, Dense\n",
    "from tensorflow.keras.optimizers import RMSprop\n",
    "import tensorflow as tf\n",
    "\n",
    "# Ajustar parámetros para reproducibilidad del entrenamiento\n",
    "tf.random.set_seed(123)\n",
    "tf.config.experimental.enable_op_determinism()\n",
    "\n",
    "# El modelo\n",
    "N_UNITS = 128 # Tamaño del estado oculto (h) y de la celdad de memoria (c)\n",
    "INPUT_SHAPE = (x_tr_s.shape[1], x_tr_s.shape[2]) # 24 (horas) x 1 (feature)\n",
    "\n",
    "modelo = Sequential()\n",
    "modelo.add(LSTM(N_UNITS, input_shape=INPUT_SHAPE))\n",
    "\n",
    "# Y lo único que cambia con respecto al modelo univariado + uni-step es\n",
    "# el tamaño deldato de salida\n",
    "modelo.add(Dense(OUTPUT_LENGTH, activation='linear')) # activation = 'linear' pues queremos pronosticar (regresión)\n",
    "\n",
    "# Pérdida: se usará el RMSE (root mean squared error) para el entrenamiento\n",
    "# pues permite tener errores en las mismas unidades de la temperatura\n",
    "def root_mean_squared_error(y_true, y_pred):\n",
    "    rmse = tf.math.sqrt(tf.math.reduce_mean(tf.square(y_pred-y_true)))\n",
    "    return rmse\n",
    "\n",
    "# Compilación\n",
    "optimizador = RMSprop(learning_rate=5e-5)\n",
    "modelo.compile(\n",
    "    optimizer = optimizador,\n",
    "    loss = root_mean_squared_error,\n",
    ")\n",
    "\n",
    "# Entrenamiento (aproximadamente 1 min usando GPU)\n",
    "EPOCHS = 80 # Hiperparámetro\n",
    "BATCH_SIZE = 256 # Hiperparámetro\n",
    "historia = modelo.fit(\n",
    "    x = x_tr_s,\n",
    "    y = y_tr_s,\n",
    "    batch_size = BATCH_SIZE,\n",
    "    epochs = EPOCHS,\n",
    "    validation_data = (x_vl_s, y_vl_s),\n",
    "    verbose=2\n",
    ")"
   ]
  },
  {
   "cell_type": "code",
   "execution_count": 9,
   "metadata": {
    "colab": {
     "base_uri": "https://localhost:8080/",
     "height": 451
    },
    "executionInfo": {
     "elapsed": 378,
     "status": "ok",
     "timestamp": 1682439530189,
     "user": {
      "displayName": "Miguel Sotaquirá",
      "userId": "16233284746872182672"
     },
     "user_tz": 300
    },
    "id": "JeLuM5w01hbZ",
    "outputId": "4c6a9b8e-bad6-4e9f-f93e-291b82fb37e3"
   },
   "outputs": [
    {
     "data": {
      "image/png": "[encoded data removed]",
      "text/plain": [
       "<Figure size 640x480 with 1 Axes>"
      ]
     },
     "metadata": {},
     "output_type": "display_data"
    }
   ],
   "source": [
    " # Graficar curvas de entrenamiento y validación\n",
    " # para verificar que no existe overfitting\n",
    "plt.plot(historia.history['loss'],label='RMSE train')\n",
    "plt.plot(historia.history['val_loss'],label='RMSE val')\n",
    "plt.xlabel('Iteración')\n",
    "plt.ylabel('RMSE')\n",
    "plt.legend();"
   ]
  },
  {
   "cell_type": "markdown",
   "metadata": {
    "id": "nWO45OqI6kq9"
   },
   "source": [
    "**Observaciones y sugerencias:**\n",
    "\n",
    "- El modelo no tiene *overfitting* (algo similar a lo que ocurrió con el modelo univariado + uni-step)\n",
    "- El modelo podría ser entrenado con un número mayor de iteraciones (hiperparámetro).\n",
    "- Al igual que en el tutorial anterior, se sugiere afinar el modelo modificando varios de sus hiperparámetros y usando técnicas como, por ejemplo, *random grid search*. Los hiperparámetros a afinar pueden ser:\n",
    "  - *INPUT_LENGTH* y *OUTPUT_LENGTH* (esto implica modificar la fase de pre-procesamiento)\n",
    "  - Número de unidades de la Red LSTM\n",
    "  - Pérdida\n",
    "  - Tasa de aprendizaje\n",
    "  - Epochs\n",
    "  - Batch size\n"
   ]
  },
  {
   "cell_type": "markdown",
   "metadata": {
    "id": "ZkI9vr5S69i_"
   },
   "source": [
    "## 7. Desempeño del modelo\n",
    "\n",
    "Suponiendo que el modelo ya ha sido afinado y entrenado, verificaremos su desempeño para el set de prueba y lo compararemos con el desempeño obtenido con los sets de entrenamiento y validación:"
   ]
  },
  {
   "cell_type": "code",
   "execution_count": 10,
   "metadata": {
    "colab": {
     "base_uri": "https://localhost:8080/"
    },
    "executionInfo": {
     "elapsed": 6961,
     "status": "ok",
     "timestamp": 1682439600839,
     "user": {
      "displayName": "Miguel Sotaquirá",
      "userId": "16233284746872182672"
     },
     "user_tz": 300
    },
    "id": "QuX5n8_17MqV",
    "outputId": "9d44864f-134e-4c2f-9ef7-cb9ba9ef89f3"
   },
   "outputs": [
    {
     "name": "stdout",
     "output_type": "stream",
     "text": [
      "Comparativo desempeños:\n",
      "  RMSE train:\t 0.051\n",
      "  RMSE val:\t 0.048\n",
      "  RMSE test:\t 0.055\n"
     ]
    }
   ],
   "source": [
    "# Cálculo de rmses para train, val y test\n",
    "rmse_tr = modelo.evaluate(x=x_tr_s, y=y_tr_s, verbose=0)\n",
    "rmse_vl = modelo.evaluate(x=x_vl_s, y=y_vl_s, verbose=0)\n",
    "rmse_ts = modelo.evaluate(x=x_ts_s, y=y_ts_s, verbose=0)\n",
    "\n",
    "# Imprimir resultados en pantalla\n",
    "print('Comparativo desempeños:')\n",
    "print(f'  RMSE train:\\t {rmse_tr:.3f}')\n",
    "print(f'  RMSE val:\\t {rmse_vl:.3f}')\n",
    "print(f'  RMSE test:\\t {rmse_ts:.3f}')"
   ]
  },
  {
   "cell_type": "markdown",
   "metadata": {
    "id": "iPSAEAAM7vmP"
   },
   "source": [
    "Los desempeños son comparables, aunque con el set de prueba se obtiene un RMSE ligeramente superior al de entrenamiento.\n",
    "\n",
    "De nuevo, esto podría mejorar con la afinación del modelo."
   ]
  },
  {
   "cell_type": "markdown",
   "metadata": {
    "id": "TSj0uSi_llOI"
   },
   "source": [
    "Ahora podemos ir un paso más allá y analizar el desempeño en detalle para el set de prueba.\n",
    "\n",
    "Como en este caso tenemos 4 horas de predicciones (en lugar de 1 sola) podemos analizar cómo se comporta el error en las predicciones para cada una de las 4 horas predichas.\n",
    "\n",
    "Para esto:\n",
    "- Generaremos las predicciones sobre la totalidad del set de prueba con el modelo entrenado.\n",
    "- Calcularemos y graficaremos el RMSE para cada instante de tiempo predicho\n"
   ]
  },
  {
   "cell_type": "code",
   "execution_count": 11,
   "metadata": {
    "colab": {
     "base_uri": "https://localhost:8080/",
     "height": 449
    },
    "executionInfo": {
     "elapsed": 2365,
     "status": "ok",
     "timestamp": 1682439897956,
     "user": {
      "displayName": "Miguel Sotaquirá",
      "userId": "16233284746872182672"
     },
     "user_tz": 300
    },
    "id": "pg3odZJ5lktI",
    "outputId": "64e40f00-b1d1-41b2-95db-7be8b6adf92e"
   },
   "outputs": [
    {
     "data": {
      "image/png": "[encoded data removed]",
      "text/plain": [
       "<Figure size 640x480 with 1 Axes>"
      ]
     },
     "metadata": {},
     "output_type": "display_data"
    }
   ],
   "source": [
    "# 1. Generar las predicciones sobre el set de prueba\n",
    "y_ts_pred_s = modelo.predict(x_ts_s, verbose=0)\n",
    "\n",
    "# 2. Realizar la transformación inversa de las predicciones para llevar sus\n",
    "# valores a la escala original\n",
    "y_ts_pred = scaler.inverse_transform(y_ts_pred_s)\n",
    "\n",
    "# 3. Calcular RMSE para cada instante de tiempo predicho\n",
    "diff_cuad = np.square(y_ts.squeeze()-y_ts_pred) # 4995x4\n",
    "proms = np.mean(diff_cuad, axis=0) # 1x4\n",
    "rmse = np.sqrt(proms) # 1x4\n",
    "\n",
    "# Graficar rmse para cada timestep\n",
    "t = np.linspace(1,4,4)\n",
    "\n",
    "fig, ax = plt.subplots()\n",
    "ax.scatter(t,rmse)\n",
    "ax.set_xlabel('Hora predicha')\n",
    "ax.set_ylabel('Error RMSE (°C)')\n",
    "plt.xticks(ticks=t, labels=t)\n",
    "plt.grid();"
   ]
  },
  {
   "cell_type": "markdown",
   "metadata": {
    "id": "Z05i6YXCoSy2"
   },
   "source": [
    "Vemos que el RMSE se incrementa a medida que pasan las horas predichas, pasando de un error de 0.5 °C para la primera hora a un error de un poco más de 2.2 °C para la cuarta hora.\n",
    "\n",
    "Esto nos permite plantear algunas hipótesis:\n",
    "\n",
    "- Probablemente un incremento en el número de horas predichas generará un incremento en el RMSE\n",
    "- Se podría reducir el RMSE al afinar el modelo\n",
    "- Se podría mejorar el desempeño usando un modelo multivariado - multistep"
   ]
  },
  {
   "cell_type": "markdown",
   "metadata": {
    "id": "fvqk4f8L3aXE"
   },
   "source": [
    "## 8. Predicciones con el modelo entrenado\n",
    "\n",
    "Suponiendo que el modelo ya ha sido afinado, podemos ponerlo a prueba con el set *test*.\n",
    "\n",
    "Usaremos la misma función `predecir` implementada en el video anterior:"
   ]
  },
  {
   "cell_type": "code",
   "execution_count": 12,
   "metadata": {
    "executionInfo": {
     "elapsed": 251,
     "status": "ok",
     "timestamp": 1682440008756,
     "user": {
      "displayName": "Miguel Sotaquirá",
      "userId": "16233284746872182672"
     },
     "user_tz": 300
    },
    "id": "loi8x-hl3vtj"
   },
   "outputs": [],
   "source": [
    "def predecir(x, model, scaler):\n",
    "    '''Genera la predicción de OUTPUT_LENGTH instantes\n",
    "    de tiempo a futuro con el modelo entrenado.\n",
    "\n",
    "    Entrada:\n",
    "    - x: batch (o batches) de datos para ingresar al modelo\n",
    "      (tamaño: BATCHES X INPUT_LENGTH X FEATURES)\n",
    "    - model: Red LSTM entrenada\n",
    "    - scaler: escalador (requerido para llevar la predicción a la escala original)\n",
    "    \n",
    "    Salida:\n",
    "    - y_pred: la predicción en la escala original (tamaño: BATCHES X OUTPUT_LENGTH X FEATURES)\n",
    "    '''\n",
    "\n",
    "    # Calcular predicción escalada en el rango de -1 a 1\n",
    "    y_pred_s = model.predict(x,verbose=0)\n",
    "\n",
    "    # Llevar la predicción a la escala original\n",
    "    y_pred = scaler.inverse_transform(y_pred_s)\n",
    "\n",
    "    return y_pred.flatten()"
   ]
  },
  {
   "cell_type": "code",
   "execution_count": 13,
   "metadata": {
    "executionInfo": {
     "elapsed": 1122,
     "status": "ok",
     "timestamp": 1682440012730,
     "user": {
      "displayName": "Miguel Sotaquirá",
      "userId": "16233284746872182672"
     },
     "user_tz": 300
    },
    "id": "8-W5qJKV46Oy"
   },
   "outputs": [],
   "source": [
    "# Calcular predicciones sobre el set de prueba\n",
    "y_ts_pred = predecir(x_ts_s, modelo, scaler)"
   ]
  },
  {
   "cell_type": "markdown",
   "metadata": {
    "id": "ulWV0CfZ5ZHV"
   },
   "source": [
    "Analicemos este desempeño gráficamente mostrando las temperaturas originales y las predichas por el modelo para cada uno de los datos en el set de prueba:"
   ]
  },
  {
   "cell_type": "code",
   "execution_count": 14,
   "metadata": {
    "colab": {
     "base_uri": "https://localhost:8080/",
     "height": 430
    },
    "executionInfo": {
     "elapsed": 1486,
     "status": "ok",
     "timestamp": 1682440030431,
     "user": {
      "displayName": "Miguel Sotaquirá",
      "userId": "16233284746872182672"
     },
     "user_tz": 300
    },
    "id": "xRLMWnEt5JM1",
    "outputId": "3a2428c1-62e9-4bb5-d1a5-a1f3fe6b298a"
   },
   "outputs": [
    {
     "data": {
      "image/png": "[encoded data removed]",
      "text/plain": [
       "<Figure size 640x480 with 1 Axes>"
      ]
     },
     "metadata": {},
     "output_type": "display_data"
    }
   ],
   "source": [
    "N = len(y_ts_pred)    # Número de predicciones\n",
    "ndato = np.linspace(1,N,N)\n",
    "\n",
    "# Cálculo de errores simples\n",
    "errores = y_ts.flatten()-y_ts_pred\n",
    "plt.plot(errores);"
   ]
  },
  {
   "cell_type": "markdown",
   "metadata": {
    "id": "PjQ15_P8-sBh"
   },
   "source": [
    "Se observa que:\n",
    "\n",
    "- El promedio de errores es cercano a cero\n",
    "- Pero en algunos instantes de tiempo se alcanzan errores extremos de hasta -10 y +10 grados.\n",
    "\n",
    "Estos errores se podrían reducir al hacer una afinación del modelo o modificando el enfoque de predicción."
   ]
  },
  {
   "cell_type": "markdown",
   "metadata": {
    "id": "0AFY2trj_KLo"
   },
   "source": [
    "## 9. Conclusiones y sugerencias\n",
    "\n",
    "- Hemos entrenado un segundo modelo univariado + multi-step\n",
    "- Lo único que cambia en la implementación con respecto al modelo univariado + uni-step es la creación del set de datos supervisado y la creación de la Red LSTM.\n",
    "- Se observa que el RMSE se incrementa a medida que aumentan las horas predichas, y que en generar los niveles de error para predicciones individuales aumentan con relación al modelo univariado + uni-step.\n",
    "- El desempeño podría mejorar si se usa un enfoque de predicción diferente (por ejemplo multivariado + multi-step) o si se afina el modelo.\n",
    "\n",
    "En el próximo video comenzaremos a enfocarnos en el desarrollo de modelos que aceptarán como entrada múltiples variables. Así que específicamente veremos cómo realizar predicciones usando el enfoque multivariado + uni-step."
   ]
  }
 ],
 "metadata": {
  "accelerator": "GPU",
  "colab": {
   "authorship_tag": "ABX9TyM380KpFRgYOy18vPH64erU",
   "provenance": []
  },
  "gpuClass": "standard",
  "kernelspec": {
   "display_name": "Python 3 (ipykernel)",
   "language": "python",
   "name": "python3"
  },
  "language_info": {
   "codemirror_mode": {
    "name": "ipython",
    "version": 3
   },
   "file_extension": ".py",
   "mimetype": "text/x-python",
   "name": "python",
   "nbconvert_exporter": "python",
   "pygments_lexer": "ipython3",
   "version": "3.11.4"
  }
 },
 "nbformat": 4,
 "nbformat_minor": 1
}
