{
 "cells": [
  {
   "cell_type": "markdown",
   "metadata": {
    "id": "RjNdt4kC7hTA"
   },
   "source": [
    "# *FORECASTING* CON REDES LSTM - PARTE 5: MODELO MULTIVARIADO - MULTISTEP"
   ]
  },
  {
   "cell_type": "markdown",
   "metadata": {
    "id": "QiP8J5o6qgvN"
   },
   "source": [
    "## Contenido\n",
    "\n",
    "1. [Introducción](#scrollTo=wHQ1yXwrk6CN)\n",
    "2. [El set de datos](#scrollTo=QDm0J6L-7rGI&line=1&uniqifier=1)\n",
    "3. [El problema a resolver](#scrollTo=CBJV_YRvj5CZ&line=1&uniqifier=1)\n",
    "4. [Lectura del set de datos](#scrollTo=Es6L4nEckb3S&line=1&uniqifier=1)\n",
    "5. [*Feature engineering*](#scrollTo=Ex5fnN-tMD7c&line=25&uniqifier=1)\n",
    "6. [Pre-procesamiento](#scrollTo=vd5lyqNrlfFg)\n",
    "7. [Creación y entrenamiento del modelo](#scrollTo=016D9eVw3Beb)\n",
    "8. [Desempeño del modelo](#scrollTo=ZkI9vr5S69i_)\n",
    "9. [Predicciones con el modelo entrenado](#scrollTo=fvqk4f8L3aXE&line=1&uniqifier=1)\n",
    "10. [Conclusiones y sugerencias](#scrollTo=0AFY2trj_KLo&line=1&uniqifier=1)"
   ]
  },
  {
   "cell_type": "markdown",
   "metadata": {
    "id": "wHQ1yXwrk6CN"
   },
   "source": [
    "## 1. Introducción\n",
    "\n",
    "En el video anterior vimos cómo implementar una Red LSTM donde la entrada es un conjunto de múltiples variables y donde a la salida generamos un sólo instante de predicción a futuro.\n",
    "\n",
    "En este último video de la serie video veremos un enfoque similar pero con la diferencia de que crearemos un modelo para predecir múltiples instantes de tiempo a futuro sobre una sola variable. Así que hablaremos del modelo multivariado + multistep.\n",
    "\n",
    "Al igual que en los modelos anteriores, re-utilizaremos buena parte del código desarrollado hasta el momento y  haremos tan sólo algunas modificaciones para implementar este modelo de predicción."
   ]
  },
  {
   "cell_type": "markdown",
   "metadata": {
    "id": "QDm0J6L-7rGI"
   },
   "source": [
    "## 2. El set de datos\n",
    "\n",
    "Recordemos que estamos usando el  [weather dataset](https://www.bgc-jena.mpg.de/wetter/weather_data.html), un set de datos que contiene el registro histórico de 14 diferentes variables climáticas en el período entre 2009 y 2015.\n",
    "\n",
    "En el segundo video de la serie realizamos el análisis exploratorio del dataset y realizamos este pre-procesamiento:\n",
    "\n",
    "1. Hicimos el manejo de datos faltantes\n",
    "2. Verificamos que el dataset no tuviese valores extremos\n",
    "3. Re-interpolamos el dataset para garantizar una periodicidad de 1 hora\n",
    "\n",
    "Este será el set de datos que usaremos en este tutorial."
   ]
  },
  {
   "cell_type": "markdown",
   "metadata": {
    "id": "CBJV_YRvj5CZ"
   },
   "source": [
    "## 3. El problema a resolver\n",
    "\n",
    "Crear y entrenar una Red LSTM usando el enfoque multivariado + uni-step:\n",
    "\n",
    "![](https://drive.google.com/uc?export=view&id=1SeTLqMdmCDh9wXinTXxPij-jkqhOxXOx)\n",
    "\n",
    "En este caso tomaremos como entrada al modelo 13 covariables (las mismas usadas en el video anterior) y a la salida intentaremos predecir 4 horas de temperatura a futuro (de ahí el término multi-step).\n",
    "\n",
    "Específicamente, con respecto al video anterior (multivariado-unistep) tendremos que modificar en nuestro código:\n",
    "\n",
    "1. **El pre-procesamiento** para crear el dataset supervisado con el número instantes de tiempo a predecir (4 horas)\n",
    "2. **La Red LSTM**, que en lugar de un sólo instante de tiempo ahora debe generar 4 horas consecutivas de predicciones sobre la variable temperatura."
   ]
  },
  {
   "cell_type": "markdown",
   "metadata": {
    "id": "Es6L4nEckb3S"
   },
   "source": [
    "## 4. Lectura del set de datos\n",
    "\n",
    "Recordemos que usaremos el dataset implementado en el [segundo video de la serie](https://youtu.be/R8MEPGn9sFI), sobre el cual ya hemos hecho un pre-procesamiento previo:"
   ]
  },
  {
   "cell_type": "code",
   "execution_count": 1,
   "metadata": {
    "colab": {
     "base_uri": "https://localhost:8080/",
     "height": 725
    },
    "executionInfo": {
     "elapsed": 26202,
     "status": "ok",
     "timestamp": 1683664958447,
     "user": {
      "displayName": "Miguel Sotaquirá",
      "userId": "16233284746872182672"
     },
     "user_tz": 300
    },
    "id": "GvROsCTA8nSB",
    "outputId": "24400094-1101-4302-d76d-80e940e82d3f"
   },
   "outputs": [
    {
     "data": {
      "text/html": [
       "<div>\n",
       "<style scoped>\n",
       "    .dataframe tbody tr th:only-of-type {\n",
       "        vertical-align: middle;\n",
       "    }\n",
       "\n",
       "    .dataframe tbody tr th {\n",
       "        vertical-align: top;\n",
       "    }\n",
       "\n",
       "    .dataframe thead th {\n",
       "        text-align: right;\n",
       "    }\n",
       "</style>\n",
       "<table border=\"1\" class=\"dataframe\">\n",
       "  <thead>\n",
       "    <tr style=\"text-align: right;\">\n",
       "      <th></th>\n",
       "      <th>p (mbar)</th>\n",
       "      <th>T (degC)</th>\n",
       "      <th>Tpot (K)</th>\n",
       "      <th>Tdew (degC)</th>\n",
       "      <th>rh (%)</th>\n",
       "      <th>VPmax (mbar)</th>\n",
       "      <th>VPact (mbar)</th>\n",
       "      <th>VPdef (mbar)</th>\n",
       "      <th>sh (g/kg)</th>\n",
       "      <th>H2OC (mmol/mol)</th>\n",
       "      <th>rho (g/m**3)</th>\n",
       "      <th>wv (m/s)</th>\n",
       "      <th>max. wv (m/s)</th>\n",
       "      <th>wd (deg)</th>\n",
       "    </tr>\n",
       "    <tr>\n",
       "      <th>datetime</th>\n",
       "      <th></th>\n",
       "      <th></th>\n",
       "      <th></th>\n",
       "      <th></th>\n",
       "      <th></th>\n",
       "      <th></th>\n",
       "      <th></th>\n",
       "      <th></th>\n",
       "      <th></th>\n",
       "      <th></th>\n",
       "      <th></th>\n",
       "      <th></th>\n",
       "      <th></th>\n",
       "      <th></th>\n",
       "    </tr>\n",
       "  </thead>\n",
       "  <tbody>\n",
       "    <tr>\n",
       "      <th>2009-01-01 01:00:00</th>\n",
       "      <td>996.50</td>\n",
       "      <td>-8.05</td>\n",
       "      <td>265.38</td>\n",
       "      <td>-8.78</td>\n",
       "      <td>94.40</td>\n",
       "      <td>3.33</td>\n",
       "      <td>3.14</td>\n",
       "      <td>0.19</td>\n",
       "      <td>1.96</td>\n",
       "      <td>3.15</td>\n",
       "      <td>1307.86</td>\n",
       "      <td>0.21</td>\n",
       "      <td>0.63</td>\n",
       "      <td>192.7</td>\n",
       "    </tr>\n",
       "    <tr>\n",
       "      <th>2009-01-01 02:00:00</th>\n",
       "      <td>996.62</td>\n",
       "      <td>-8.88</td>\n",
       "      <td>264.54</td>\n",
       "      <td>-9.77</td>\n",
       "      <td>93.20</td>\n",
       "      <td>3.12</td>\n",
       "      <td>2.90</td>\n",
       "      <td>0.21</td>\n",
       "      <td>1.81</td>\n",
       "      <td>2.91</td>\n",
       "      <td>1312.25</td>\n",
       "      <td>0.25</td>\n",
       "      <td>0.63</td>\n",
       "      <td>190.3</td>\n",
       "    </tr>\n",
       "    <tr>\n",
       "      <th>2009-01-01 03:00:00</th>\n",
       "      <td>996.84</td>\n",
       "      <td>-8.81</td>\n",
       "      <td>264.59</td>\n",
       "      <td>-9.66</td>\n",
       "      <td>93.50</td>\n",
       "      <td>3.13</td>\n",
       "      <td>2.93</td>\n",
       "      <td>0.20</td>\n",
       "      <td>1.83</td>\n",
       "      <td>2.94</td>\n",
       "      <td>1312.18</td>\n",
       "      <td>0.18</td>\n",
       "      <td>0.63</td>\n",
       "      <td>167.2</td>\n",
       "    </tr>\n",
       "    <tr>\n",
       "      <th>2009-01-01 04:00:00</th>\n",
       "      <td>996.99</td>\n",
       "      <td>-9.05</td>\n",
       "      <td>264.34</td>\n",
       "      <td>-10.02</td>\n",
       "      <td>92.60</td>\n",
       "      <td>3.07</td>\n",
       "      <td>2.85</td>\n",
       "      <td>0.23</td>\n",
       "      <td>1.78</td>\n",
       "      <td>2.85</td>\n",
       "      <td>1313.61</td>\n",
       "      <td>0.10</td>\n",
       "      <td>0.38</td>\n",
       "      <td>240.0</td>\n",
       "    </tr>\n",
       "    <tr>\n",
       "      <th>2009-01-01 05:00:00</th>\n",
       "      <td>997.46</td>\n",
       "      <td>-9.63</td>\n",
       "      <td>263.72</td>\n",
       "      <td>-10.65</td>\n",
       "      <td>92.20</td>\n",
       "      <td>2.94</td>\n",
       "      <td>2.71</td>\n",
       "      <td>0.23</td>\n",
       "      <td>1.69</td>\n",
       "      <td>2.71</td>\n",
       "      <td>1317.19</td>\n",
       "      <td>0.40</td>\n",
       "      <td>0.88</td>\n",
       "      <td>157.0</td>\n",
       "    </tr>\n",
       "    <tr>\n",
       "      <th>...</th>\n",
       "      <td>...</td>\n",
       "      <td>...</td>\n",
       "      <td>...</td>\n",
       "      <td>...</td>\n",
       "      <td>...</td>\n",
       "      <td>...</td>\n",
       "      <td>...</td>\n",
       "      <td>...</td>\n",
       "      <td>...</td>\n",
       "      <td>...</td>\n",
       "      <td>...</td>\n",
       "      <td>...</td>\n",
       "      <td>...</td>\n",
       "      <td>...</td>\n",
       "    </tr>\n",
       "    <tr>\n",
       "      <th>2014-09-24 12:00:00</th>\n",
       "      <td>987.01</td>\n",
       "      <td>13.69</td>\n",
       "      <td>287.92</td>\n",
       "      <td>6.29</td>\n",
       "      <td>60.85</td>\n",
       "      <td>15.69</td>\n",
       "      <td>9.55</td>\n",
       "      <td>6.14</td>\n",
       "      <td>6.04</td>\n",
       "      <td>9.67</td>\n",
       "      <td>1194.28</td>\n",
       "      <td>2.92</td>\n",
       "      <td>4.00</td>\n",
       "      <td>174.1</td>\n",
       "    </tr>\n",
       "    <tr>\n",
       "      <th>2014-09-24 13:00:00</th>\n",
       "      <td>986.55</td>\n",
       "      <td>14.19</td>\n",
       "      <td>288.47</td>\n",
       "      <td>6.80</td>\n",
       "      <td>61.01</td>\n",
       "      <td>16.21</td>\n",
       "      <td>9.89</td>\n",
       "      <td>6.32</td>\n",
       "      <td>6.26</td>\n",
       "      <td>10.02</td>\n",
       "      <td>1191.48</td>\n",
       "      <td>1.57</td>\n",
       "      <td>2.48</td>\n",
       "      <td>173.0</td>\n",
       "    </tr>\n",
       "    <tr>\n",
       "      <th>2014-09-24 14:00:00</th>\n",
       "      <td>986.21</td>\n",
       "      <td>14.99</td>\n",
       "      <td>289.30</td>\n",
       "      <td>6.70</td>\n",
       "      <td>57.54</td>\n",
       "      <td>17.07</td>\n",
       "      <td>9.82</td>\n",
       "      <td>7.25</td>\n",
       "      <td>6.22</td>\n",
       "      <td>9.96</td>\n",
       "      <td>1187.80</td>\n",
       "      <td>2.79</td>\n",
       "      <td>4.75</td>\n",
       "      <td>202.5</td>\n",
       "    </tr>\n",
       "    <tr>\n",
       "      <th>2014-09-24 15:00:00</th>\n",
       "      <td>984.76</td>\n",
       "      <td>15.20</td>\n",
       "      <td>289.63</td>\n",
       "      <td>6.96</td>\n",
       "      <td>57.79</td>\n",
       "      <td>17.30</td>\n",
       "      <td>10.00</td>\n",
       "      <td>7.30</td>\n",
       "      <td>6.34</td>\n",
       "      <td>10.15</td>\n",
       "      <td>1185.10</td>\n",
       "      <td>2.86</td>\n",
       "      <td>4.32</td>\n",
       "      <td>172.0</td>\n",
       "    </tr>\n",
       "    <tr>\n",
       "      <th>2014-09-24 16:00:00</th>\n",
       "      <td>984.61</td>\n",
       "      <td>14.40</td>\n",
       "      <td>288.84</td>\n",
       "      <td>7.00</td>\n",
       "      <td>61.03</td>\n",
       "      <td>16.43</td>\n",
       "      <td>10.03</td>\n",
       "      <td>6.40</td>\n",
       "      <td>6.36</td>\n",
       "      <td>10.18</td>\n",
       "      <td>1188.20</td>\n",
       "      <td>1.71</td>\n",
       "      <td>2.44</td>\n",
       "      <td>195.1</td>\n",
       "    </tr>\n",
       "  </tbody>\n",
       "</table>\n",
       "<p>50224 rows × 14 columns</p>\n",
       "</div>"
      ],
      "text/plain": [
       "                     p (mbar)  T (degC)  Tpot (K)  Tdew (degC)  rh (%)  \\\n",
       "datetime                                                                 \n",
       "2009-01-01 01:00:00    996.50     -8.05    265.38        -8.78   94.40   \n",
       "2009-01-01 02:00:00    996.62     -8.88    264.54        -9.77   93.20   \n",
       "2009-01-01 03:00:00    996.84     -8.81    264.59        -9.66   93.50   \n",
       "2009-01-01 04:00:00    996.99     -9.05    264.34       -10.02   92.60   \n",
       "2009-01-01 05:00:00    997.46     -9.63    263.72       -10.65   92.20   \n",
       "...                       ...       ...       ...          ...     ...   \n",
       "2014-09-24 12:00:00    987.01     13.69    287.92         6.29   60.85   \n",
       "2014-09-24 13:00:00    986.55     14.19    288.47         6.80   61.01   \n",
       "2014-09-24 14:00:00    986.21     14.99    289.30         6.70   57.54   \n",
       "2014-09-24 15:00:00    984.76     15.20    289.63         6.96   57.79   \n",
       "2014-09-24 16:00:00    984.61     14.40    288.84         7.00   61.03   \n",
       "\n",
       "                     VPmax (mbar)  VPact (mbar)  VPdef (mbar)  sh (g/kg)  \\\n",
       "datetime                                                                   \n",
       "2009-01-01 01:00:00          3.33          3.14          0.19       1.96   \n",
       "2009-01-01 02:00:00          3.12          2.90          0.21       1.81   \n",
       "2009-01-01 03:00:00          3.13          2.93          0.20       1.83   \n",
       "2009-01-01 04:00:00          3.07          2.85          0.23       1.78   \n",
       "2009-01-01 05:00:00          2.94          2.71          0.23       1.69   \n",
       "...                           ...           ...           ...        ...   \n",
       "2014-09-24 12:00:00         15.69          9.55          6.14       6.04   \n",
       "2014-09-24 13:00:00         16.21          9.89          6.32       6.26   \n",
       "2014-09-24 14:00:00         17.07          9.82          7.25       6.22   \n",
       "2014-09-24 15:00:00         17.30         10.00          7.30       6.34   \n",
       "2014-09-24 16:00:00         16.43         10.03          6.40       6.36   \n",
       "\n",
       "                     H2OC (mmol/mol)  rho (g/m**3)  wv (m/s)  max. wv (m/s)  \\\n",
       "datetime                                                                      \n",
       "2009-01-01 01:00:00             3.15       1307.86      0.21           0.63   \n",
       "2009-01-01 02:00:00             2.91       1312.25      0.25           0.63   \n",
       "2009-01-01 03:00:00             2.94       1312.18      0.18           0.63   \n",
       "2009-01-01 04:00:00             2.85       1313.61      0.10           0.38   \n",
       "2009-01-01 05:00:00             2.71       1317.19      0.40           0.88   \n",
       "...                              ...           ...       ...            ...   \n",
       "2014-09-24 12:00:00             9.67       1194.28      2.92           4.00   \n",
       "2014-09-24 13:00:00            10.02       1191.48      1.57           2.48   \n",
       "2014-09-24 14:00:00             9.96       1187.80      2.79           4.75   \n",
       "2014-09-24 15:00:00            10.15       1185.10      2.86           4.32   \n",
       "2014-09-24 16:00:00            10.18       1188.20      1.71           2.44   \n",
       "\n",
       "                     wd (deg)  \n",
       "datetime                       \n",
       "2009-01-01 01:00:00     192.7  \n",
       "2009-01-01 02:00:00     190.3  \n",
       "2009-01-01 03:00:00     167.2  \n",
       "2009-01-01 04:00:00     240.0  \n",
       "2009-01-01 05:00:00     157.0  \n",
       "...                       ...  \n",
       "2014-09-24 12:00:00     174.1  \n",
       "2014-09-24 13:00:00     173.0  \n",
       "2014-09-24 14:00:00     202.5  \n",
       "2014-09-24 15:00:00     172.0  \n",
       "2014-09-24 16:00:00     195.1  \n",
       "\n",
       "[50224 rows x 14 columns]"
      ]
     },
     "execution_count": 1,
     "metadata": {},
     "output_type": "execute_result"
    }
   ],
   "source": [
    "import pandas as pd\n",
    "import matplotlib.pyplot as plt\n",
    "import numpy as np\n",
    "\n",
    "# Leer set de datos\n",
    "df = pd.read_csv('weather_dataset_preprocesado.csv', index_col='datetime')\n",
    "df"
   ]
  },
  {
   "cell_type": "markdown",
   "metadata": {
    "id": "Q2XvjFsB4oiX"
   },
   "source": [
    "En este caso **NO** incluiremos la variable tiempo como una covariable, así que podremos eliminarla:"
   ]
  },
  {
   "cell_type": "code",
   "execution_count": 2,
   "metadata": {
    "colab": {
     "base_uri": "https://localhost:8080/",
     "height": 502
    },
    "executionInfo": {
     "elapsed": 462,
     "status": "ok",
     "timestamp": 1683665104168,
     "user": {
      "displayName": "Miguel Sotaquirá",
      "userId": "16233284746872182672"
     },
     "user_tz": 300
    },
    "id": "iYMEWToL4vCB",
    "outputId": "f0b847b4-7aa2-4e18-ebdc-7ab0e6ee625e"
   },
   "outputs": [
    {
     "data": {
      "text/html": [
       "<div>\n",
       "<style scoped>\n",
       "    .dataframe tbody tr th:only-of-type {\n",
       "        vertical-align: middle;\n",
       "    }\n",
       "\n",
       "    .dataframe tbody tr th {\n",
       "        vertical-align: top;\n",
       "    }\n",
       "\n",
       "    .dataframe thead th {\n",
       "        text-align: right;\n",
       "    }\n",
       "</style>\n",
       "<table border=\"1\" class=\"dataframe\">\n",
       "  <thead>\n",
       "    <tr style=\"text-align: right;\">\n",
       "      <th></th>\n",
       "      <th>p (mbar)</th>\n",
       "      <th>T (degC)</th>\n",
       "      <th>Tpot (K)</th>\n",
       "      <th>Tdew (degC)</th>\n",
       "      <th>rh (%)</th>\n",
       "      <th>VPmax (mbar)</th>\n",
       "      <th>VPact (mbar)</th>\n",
       "      <th>VPdef (mbar)</th>\n",
       "      <th>sh (g/kg)</th>\n",
       "      <th>H2OC (mmol/mol)</th>\n",
       "      <th>rho (g/m**3)</th>\n",
       "      <th>wv (m/s)</th>\n",
       "      <th>max. wv (m/s)</th>\n",
       "      <th>wd (deg)</th>\n",
       "    </tr>\n",
       "  </thead>\n",
       "  <tbody>\n",
       "    <tr>\n",
       "      <th>0</th>\n",
       "      <td>996.50</td>\n",
       "      <td>-8.05</td>\n",
       "      <td>265.38</td>\n",
       "      <td>-8.78</td>\n",
       "      <td>94.40</td>\n",
       "      <td>3.33</td>\n",
       "      <td>3.14</td>\n",
       "      <td>0.19</td>\n",
       "      <td>1.96</td>\n",
       "      <td>3.15</td>\n",
       "      <td>1307.86</td>\n",
       "      <td>0.21</td>\n",
       "      <td>0.63</td>\n",
       "      <td>192.7</td>\n",
       "    </tr>\n",
       "    <tr>\n",
       "      <th>1</th>\n",
       "      <td>996.62</td>\n",
       "      <td>-8.88</td>\n",
       "      <td>264.54</td>\n",
       "      <td>-9.77</td>\n",
       "      <td>93.20</td>\n",
       "      <td>3.12</td>\n",
       "      <td>2.90</td>\n",
       "      <td>0.21</td>\n",
       "      <td>1.81</td>\n",
       "      <td>2.91</td>\n",
       "      <td>1312.25</td>\n",
       "      <td>0.25</td>\n",
       "      <td>0.63</td>\n",
       "      <td>190.3</td>\n",
       "    </tr>\n",
       "    <tr>\n",
       "      <th>2</th>\n",
       "      <td>996.84</td>\n",
       "      <td>-8.81</td>\n",
       "      <td>264.59</td>\n",
       "      <td>-9.66</td>\n",
       "      <td>93.50</td>\n",
       "      <td>3.13</td>\n",
       "      <td>2.93</td>\n",
       "      <td>0.20</td>\n",
       "      <td>1.83</td>\n",
       "      <td>2.94</td>\n",
       "      <td>1312.18</td>\n",
       "      <td>0.18</td>\n",
       "      <td>0.63</td>\n",
       "      <td>167.2</td>\n",
       "    </tr>\n",
       "    <tr>\n",
       "      <th>3</th>\n",
       "      <td>996.99</td>\n",
       "      <td>-9.05</td>\n",
       "      <td>264.34</td>\n",
       "      <td>-10.02</td>\n",
       "      <td>92.60</td>\n",
       "      <td>3.07</td>\n",
       "      <td>2.85</td>\n",
       "      <td>0.23</td>\n",
       "      <td>1.78</td>\n",
       "      <td>2.85</td>\n",
       "      <td>1313.61</td>\n",
       "      <td>0.10</td>\n",
       "      <td>0.38</td>\n",
       "      <td>240.0</td>\n",
       "    </tr>\n",
       "    <tr>\n",
       "      <th>4</th>\n",
       "      <td>997.46</td>\n",
       "      <td>-9.63</td>\n",
       "      <td>263.72</td>\n",
       "      <td>-10.65</td>\n",
       "      <td>92.20</td>\n",
       "      <td>2.94</td>\n",
       "      <td>2.71</td>\n",
       "      <td>0.23</td>\n",
       "      <td>1.69</td>\n",
       "      <td>2.71</td>\n",
       "      <td>1317.19</td>\n",
       "      <td>0.40</td>\n",
       "      <td>0.88</td>\n",
       "      <td>157.0</td>\n",
       "    </tr>\n",
       "    <tr>\n",
       "      <th>...</th>\n",
       "      <td>...</td>\n",
       "      <td>...</td>\n",
       "      <td>...</td>\n",
       "      <td>...</td>\n",
       "      <td>...</td>\n",
       "      <td>...</td>\n",
       "      <td>...</td>\n",
       "      <td>...</td>\n",
       "      <td>...</td>\n",
       "      <td>...</td>\n",
       "      <td>...</td>\n",
       "      <td>...</td>\n",
       "      <td>...</td>\n",
       "      <td>...</td>\n",
       "    </tr>\n",
       "    <tr>\n",
       "      <th>50219</th>\n",
       "      <td>987.01</td>\n",
       "      <td>13.69</td>\n",
       "      <td>287.92</td>\n",
       "      <td>6.29</td>\n",
       "      <td>60.85</td>\n",
       "      <td>15.69</td>\n",
       "      <td>9.55</td>\n",
       "      <td>6.14</td>\n",
       "      <td>6.04</td>\n",
       "      <td>9.67</td>\n",
       "      <td>1194.28</td>\n",
       "      <td>2.92</td>\n",
       "      <td>4.00</td>\n",
       "      <td>174.1</td>\n",
       "    </tr>\n",
       "    <tr>\n",
       "      <th>50220</th>\n",
       "      <td>986.55</td>\n",
       "      <td>14.19</td>\n",
       "      <td>288.47</td>\n",
       "      <td>6.80</td>\n",
       "      <td>61.01</td>\n",
       "      <td>16.21</td>\n",
       "      <td>9.89</td>\n",
       "      <td>6.32</td>\n",
       "      <td>6.26</td>\n",
       "      <td>10.02</td>\n",
       "      <td>1191.48</td>\n",
       "      <td>1.57</td>\n",
       "      <td>2.48</td>\n",
       "      <td>173.0</td>\n",
       "    </tr>\n",
       "    <tr>\n",
       "      <th>50221</th>\n",
       "      <td>986.21</td>\n",
       "      <td>14.99</td>\n",
       "      <td>289.30</td>\n",
       "      <td>6.70</td>\n",
       "      <td>57.54</td>\n",
       "      <td>17.07</td>\n",
       "      <td>9.82</td>\n",
       "      <td>7.25</td>\n",
       "      <td>6.22</td>\n",
       "      <td>9.96</td>\n",
       "      <td>1187.80</td>\n",
       "      <td>2.79</td>\n",
       "      <td>4.75</td>\n",
       "      <td>202.5</td>\n",
       "    </tr>\n",
       "    <tr>\n",
       "      <th>50222</th>\n",
       "      <td>984.76</td>\n",
       "      <td>15.20</td>\n",
       "      <td>289.63</td>\n",
       "      <td>6.96</td>\n",
       "      <td>57.79</td>\n",
       "      <td>17.30</td>\n",
       "      <td>10.00</td>\n",
       "      <td>7.30</td>\n",
       "      <td>6.34</td>\n",
       "      <td>10.15</td>\n",
       "      <td>1185.10</td>\n",
       "      <td>2.86</td>\n",
       "      <td>4.32</td>\n",
       "      <td>172.0</td>\n",
       "    </tr>\n",
       "    <tr>\n",
       "      <th>50223</th>\n",
       "      <td>984.61</td>\n",
       "      <td>14.40</td>\n",
       "      <td>288.84</td>\n",
       "      <td>7.00</td>\n",
       "      <td>61.03</td>\n",
       "      <td>16.43</td>\n",
       "      <td>10.03</td>\n",
       "      <td>6.40</td>\n",
       "      <td>6.36</td>\n",
       "      <td>10.18</td>\n",
       "      <td>1188.20</td>\n",
       "      <td>1.71</td>\n",
       "      <td>2.44</td>\n",
       "      <td>195.1</td>\n",
       "    </tr>\n",
       "  </tbody>\n",
       "</table>\n",
       "<p>50224 rows × 14 columns</p>\n",
       "</div>"
      ],
      "text/plain": [
       "       p (mbar)  T (degC)  Tpot (K)  Tdew (degC)  rh (%)  VPmax (mbar)  \\\n",
       "0        996.50     -8.05    265.38        -8.78   94.40          3.33   \n",
       "1        996.62     -8.88    264.54        -9.77   93.20          3.12   \n",
       "2        996.84     -8.81    264.59        -9.66   93.50          3.13   \n",
       "3        996.99     -9.05    264.34       -10.02   92.60          3.07   \n",
       "4        997.46     -9.63    263.72       -10.65   92.20          2.94   \n",
       "...         ...       ...       ...          ...     ...           ...   \n",
       "50219    987.01     13.69    287.92         6.29   60.85         15.69   \n",
       "50220    986.55     14.19    288.47         6.80   61.01         16.21   \n",
       "50221    986.21     14.99    289.30         6.70   57.54         17.07   \n",
       "50222    984.76     15.20    289.63         6.96   57.79         17.30   \n",
       "50223    984.61     14.40    288.84         7.00   61.03         16.43   \n",
       "\n",
       "       VPact (mbar)  VPdef (mbar)  sh (g/kg)  H2OC (mmol/mol)  rho (g/m**3)  \\\n",
       "0              3.14          0.19       1.96             3.15       1307.86   \n",
       "1              2.90          0.21       1.81             2.91       1312.25   \n",
       "2              2.93          0.20       1.83             2.94       1312.18   \n",
       "3              2.85          0.23       1.78             2.85       1313.61   \n",
       "4              2.71          0.23       1.69             2.71       1317.19   \n",
       "...             ...           ...        ...              ...           ...   \n",
       "50219          9.55          6.14       6.04             9.67       1194.28   \n",
       "50220          9.89          6.32       6.26            10.02       1191.48   \n",
       "50221          9.82          7.25       6.22             9.96       1187.80   \n",
       "50222         10.00          7.30       6.34            10.15       1185.10   \n",
       "50223         10.03          6.40       6.36            10.18       1188.20   \n",
       "\n",
       "       wv (m/s)  max. wv (m/s)  wd (deg)  \n",
       "0          0.21           0.63     192.7  \n",
       "1          0.25           0.63     190.3  \n",
       "2          0.18           0.63     167.2  \n",
       "3          0.10           0.38     240.0  \n",
       "4          0.40           0.88     157.0  \n",
       "...         ...            ...       ...  \n",
       "50219      2.92           4.00     174.1  \n",
       "50220      1.57           2.48     173.0  \n",
       "50221      2.79           4.75     202.5  \n",
       "50222      2.86           4.32     172.0  \n",
       "50223      1.71           2.44     195.1  \n",
       "\n",
       "[50224 rows x 14 columns]"
      ]
     },
     "execution_count": 2,
     "metadata": {},
     "output_type": "execute_result"
    }
   ],
   "source": [
    "df = df.reset_index()\n",
    "df = df.drop(columns=['datetime'])\n",
    "df"
   ]
  },
  {
   "cell_type": "markdown",
   "metadata": {
    "id": "Ex5fnN-tMD7c"
   },
   "source": [
    "## 5. *Feature engineering*\n",
    "\n",
    "Realizaremos la misma *ingeniería de características del video anterior*:\n",
    "\n",
    "- A partir de la velocidad y dirección del viento (columnas `wv (m/s)` y `wd (deg)`) calcularemos 2 nuevas características: los componentes del vector viento (nuevas columnas `Wx` y `Wy`)\n",
    "- Eliminaremos la columna `max. wv (m/s)` (velocidad del viento máxima (en m/s))\n",
    "\n",
    "![](https://drive.google.com/uc?export=view&id=1SYGFg_Ugmt4oxlxm9mJTKtuxYHBSmP4w)\n",
    "\n",
    "donde:\n",
    "\n",
    "- $W_x = wv \\cdot cos(wd)$\n",
    "- $W_y = wv \\cdot sin(wd)$\n",
    "\n",
    "Así que, al igual que en el video anterior, tendremos 13 covariables de entrada al modelo:"
   ]
  },
  {
   "cell_type": "code",
   "execution_count": 3,
   "metadata": {
    "colab": {
     "base_uri": "https://localhost:8080/",
     "height": 485
    },
    "executionInfo": {
     "elapsed": 312,
     "status": "ok",
     "timestamp": 1683665151070,
     "user": {
      "displayName": "Miguel Sotaquirá",
      "userId": "16233284746872182672"
     },
     "user_tz": 300
    },
    "id": "Ow0iBOsmCg0d",
    "outputId": "cc8a7af2-887d-4ab0-de3b-b27a72501f46"
   },
   "outputs": [
    {
     "data": {
      "text/html": [
       "<div>\n",
       "<style scoped>\n",
       "    .dataframe tbody tr th:only-of-type {\n",
       "        vertical-align: middle;\n",
       "    }\n",
       "\n",
       "    .dataframe tbody tr th {\n",
       "        vertical-align: top;\n",
       "    }\n",
       "\n",
       "    .dataframe thead th {\n",
       "        text-align: right;\n",
       "    }\n",
       "</style>\n",
       "<table border=\"1\" class=\"dataframe\">\n",
       "  <thead>\n",
       "    <tr style=\"text-align: right;\">\n",
       "      <th></th>\n",
       "      <th>p (mbar)</th>\n",
       "      <th>T (degC)</th>\n",
       "      <th>Tpot (K)</th>\n",
       "      <th>Tdew (degC)</th>\n",
       "      <th>rh (%)</th>\n",
       "      <th>VPmax (mbar)</th>\n",
       "      <th>VPact (mbar)</th>\n",
       "      <th>VPdef (mbar)</th>\n",
       "      <th>sh (g/kg)</th>\n",
       "      <th>H2OC (mmol/mol)</th>\n",
       "      <th>rho (g/m**3)</th>\n",
       "      <th>Wx</th>\n",
       "      <th>Wy</th>\n",
       "    </tr>\n",
       "  </thead>\n",
       "  <tbody>\n",
       "    <tr>\n",
       "      <th>0</th>\n",
       "      <td>996.50</td>\n",
       "      <td>-8.05</td>\n",
       "      <td>265.38</td>\n",
       "      <td>-8.78</td>\n",
       "      <td>94.40</td>\n",
       "      <td>3.33</td>\n",
       "      <td>3.14</td>\n",
       "      <td>0.19</td>\n",
       "      <td>1.96</td>\n",
       "      <td>3.15</td>\n",
       "      <td>1307.86</td>\n",
       "      <td>-0.204862</td>\n",
       "      <td>-0.046168</td>\n",
       "    </tr>\n",
       "    <tr>\n",
       "      <th>1</th>\n",
       "      <td>996.62</td>\n",
       "      <td>-8.88</td>\n",
       "      <td>264.54</td>\n",
       "      <td>-9.77</td>\n",
       "      <td>93.20</td>\n",
       "      <td>3.12</td>\n",
       "      <td>2.90</td>\n",
       "      <td>0.21</td>\n",
       "      <td>1.81</td>\n",
       "      <td>2.91</td>\n",
       "      <td>1312.25</td>\n",
       "      <td>-0.245971</td>\n",
       "      <td>-0.044701</td>\n",
       "    </tr>\n",
       "    <tr>\n",
       "      <th>2</th>\n",
       "      <td>996.84</td>\n",
       "      <td>-8.81</td>\n",
       "      <td>264.59</td>\n",
       "      <td>-9.66</td>\n",
       "      <td>93.50</td>\n",
       "      <td>3.13</td>\n",
       "      <td>2.93</td>\n",
       "      <td>0.20</td>\n",
       "      <td>1.83</td>\n",
       "      <td>2.94</td>\n",
       "      <td>1312.18</td>\n",
       "      <td>-0.175527</td>\n",
       "      <td>0.039879</td>\n",
       "    </tr>\n",
       "    <tr>\n",
       "      <th>3</th>\n",
       "      <td>996.99</td>\n",
       "      <td>-9.05</td>\n",
       "      <td>264.34</td>\n",
       "      <td>-10.02</td>\n",
       "      <td>92.60</td>\n",
       "      <td>3.07</td>\n",
       "      <td>2.85</td>\n",
       "      <td>0.23</td>\n",
       "      <td>1.78</td>\n",
       "      <td>2.85</td>\n",
       "      <td>1313.61</td>\n",
       "      <td>-0.050000</td>\n",
       "      <td>-0.086603</td>\n",
       "    </tr>\n",
       "    <tr>\n",
       "      <th>4</th>\n",
       "      <td>997.46</td>\n",
       "      <td>-9.63</td>\n",
       "      <td>263.72</td>\n",
       "      <td>-10.65</td>\n",
       "      <td>92.20</td>\n",
       "      <td>2.94</td>\n",
       "      <td>2.71</td>\n",
       "      <td>0.23</td>\n",
       "      <td>1.69</td>\n",
       "      <td>2.71</td>\n",
       "      <td>1317.19</td>\n",
       "      <td>-0.368202</td>\n",
       "      <td>0.156292</td>\n",
       "    </tr>\n",
       "    <tr>\n",
       "      <th>...</th>\n",
       "      <td>...</td>\n",
       "      <td>...</td>\n",
       "      <td>...</td>\n",
       "      <td>...</td>\n",
       "      <td>...</td>\n",
       "      <td>...</td>\n",
       "      <td>...</td>\n",
       "      <td>...</td>\n",
       "      <td>...</td>\n",
       "      <td>...</td>\n",
       "      <td>...</td>\n",
       "      <td>...</td>\n",
       "      <td>...</td>\n",
       "    </tr>\n",
       "    <tr>\n",
       "      <th>50219</th>\n",
       "      <td>987.01</td>\n",
       "      <td>13.69</td>\n",
       "      <td>287.92</td>\n",
       "      <td>6.29</td>\n",
       "      <td>60.85</td>\n",
       "      <td>15.69</td>\n",
       "      <td>9.55</td>\n",
       "      <td>6.14</td>\n",
       "      <td>6.04</td>\n",
       "      <td>9.67</td>\n",
       "      <td>1194.28</td>\n",
       "      <td>-2.904532</td>\n",
       "      <td>0.300154</td>\n",
       "    </tr>\n",
       "    <tr>\n",
       "      <th>50220</th>\n",
       "      <td>986.55</td>\n",
       "      <td>14.19</td>\n",
       "      <td>288.47</td>\n",
       "      <td>6.80</td>\n",
       "      <td>61.01</td>\n",
       "      <td>16.21</td>\n",
       "      <td>9.89</td>\n",
       "      <td>6.32</td>\n",
       "      <td>6.26</td>\n",
       "      <td>10.02</td>\n",
       "      <td>1191.48</td>\n",
       "      <td>-1.558297</td>\n",
       "      <td>0.191335</td>\n",
       "    </tr>\n",
       "    <tr>\n",
       "      <th>50221</th>\n",
       "      <td>986.21</td>\n",
       "      <td>14.99</td>\n",
       "      <td>289.30</td>\n",
       "      <td>6.70</td>\n",
       "      <td>57.54</td>\n",
       "      <td>17.07</td>\n",
       "      <td>9.82</td>\n",
       "      <td>7.25</td>\n",
       "      <td>6.22</td>\n",
       "      <td>9.96</td>\n",
       "      <td>1187.80</td>\n",
       "      <td>-2.577624</td>\n",
       "      <td>-1.067687</td>\n",
       "    </tr>\n",
       "    <tr>\n",
       "      <th>50222</th>\n",
       "      <td>984.76</td>\n",
       "      <td>15.20</td>\n",
       "      <td>289.63</td>\n",
       "      <td>6.96</td>\n",
       "      <td>57.79</td>\n",
       "      <td>17.30</td>\n",
       "      <td>10.00</td>\n",
       "      <td>7.30</td>\n",
       "      <td>6.34</td>\n",
       "      <td>10.15</td>\n",
       "      <td>1185.10</td>\n",
       "      <td>-2.832167</td>\n",
       "      <td>0.398035</td>\n",
       "    </tr>\n",
       "    <tr>\n",
       "      <th>50223</th>\n",
       "      <td>984.61</td>\n",
       "      <td>14.40</td>\n",
       "      <td>288.84</td>\n",
       "      <td>7.00</td>\n",
       "      <td>61.03</td>\n",
       "      <td>16.43</td>\n",
       "      <td>10.03</td>\n",
       "      <td>6.40</td>\n",
       "      <td>6.36</td>\n",
       "      <td>10.18</td>\n",
       "      <td>1188.20</td>\n",
       "      <td>-1.650958</td>\n",
       "      <td>-0.445463</td>\n",
       "    </tr>\n",
       "  </tbody>\n",
       "</table>\n",
       "<p>50224 rows × 13 columns</p>\n",
       "</div>"
      ],
      "text/plain": [
       "       p (mbar)  T (degC)  Tpot (K)  Tdew (degC)  rh (%)  VPmax (mbar)  \\\n",
       "0        996.50     -8.05    265.38        -8.78   94.40          3.33   \n",
       "1        996.62     -8.88    264.54        -9.77   93.20          3.12   \n",
       "2        996.84     -8.81    264.59        -9.66   93.50          3.13   \n",
       "3        996.99     -9.05    264.34       -10.02   92.60          3.07   \n",
       "4        997.46     -9.63    263.72       -10.65   92.20          2.94   \n",
       "...         ...       ...       ...          ...     ...           ...   \n",
       "50219    987.01     13.69    287.92         6.29   60.85         15.69   \n",
       "50220    986.55     14.19    288.47         6.80   61.01         16.21   \n",
       "50221    986.21     14.99    289.30         6.70   57.54         17.07   \n",
       "50222    984.76     15.20    289.63         6.96   57.79         17.30   \n",
       "50223    984.61     14.40    288.84         7.00   61.03         16.43   \n",
       "\n",
       "       VPact (mbar)  VPdef (mbar)  sh (g/kg)  H2OC (mmol/mol)  rho (g/m**3)  \\\n",
       "0              3.14          0.19       1.96             3.15       1307.86   \n",
       "1              2.90          0.21       1.81             2.91       1312.25   \n",
       "2              2.93          0.20       1.83             2.94       1312.18   \n",
       "3              2.85          0.23       1.78             2.85       1313.61   \n",
       "4              2.71          0.23       1.69             2.71       1317.19   \n",
       "...             ...           ...        ...              ...           ...   \n",
       "50219          9.55          6.14       6.04             9.67       1194.28   \n",
       "50220          9.89          6.32       6.26            10.02       1191.48   \n",
       "50221          9.82          7.25       6.22             9.96       1187.80   \n",
       "50222         10.00          7.30       6.34            10.15       1185.10   \n",
       "50223         10.03          6.40       6.36            10.18       1188.20   \n",
       "\n",
       "             Wx        Wy  \n",
       "0     -0.204862 -0.046168  \n",
       "1     -0.245971 -0.044701  \n",
       "2     -0.175527  0.039879  \n",
       "3     -0.050000 -0.086603  \n",
       "4     -0.368202  0.156292  \n",
       "...         ...       ...  \n",
       "50219 -2.904532  0.300154  \n",
       "50220 -1.558297  0.191335  \n",
       "50221 -2.577624 -1.067687  \n",
       "50222 -2.832167  0.398035  \n",
       "50223 -1.650958 -0.445463  \n",
       "\n",
       "[50224 rows x 13 columns]"
      ]
     },
     "execution_count": 3,
     "metadata": {},
     "output_type": "execute_result"
    }
   ],
   "source": [
    "# Feature engineering\n",
    "w_dir = df['wd (deg)']*np.pi/180\n",
    "Wx = df['wv (m/s)']*np.cos(w_dir)\n",
    "Wy = df['wv (m/s)']*np.sin(w_dir)\n",
    "\n",
    "# Eliminar columnas irrelevantes\n",
    "df.pop('wd (deg)')\n",
    "df.pop('wv (m/s)')\n",
    "df.pop('max. wv (m/s)')\n",
    "\n",
    "# E incluir las columnas de interés\n",
    "df['Wx'] = Wx\n",
    "df['Wy'] = Wy\n",
    "df"
   ]
  },
  {
   "cell_type": "markdown",
   "metadata": {
    "id": "vd5lyqNrlfFg"
   },
   "source": [
    "## 6. Pre-procesamiento\n",
    "\n",
    "Implica:\n",
    "\n",
    "1. Partición en train/val/test (80%, 10%, 10%).\n",
    "2. Generación del dataset supervisado: entrada y salida del modelo\n",
    "3. Escalamiento\n",
    "\n",
    "En cada una de estas fases usaremos prácticamente el mismo código usado en los modelos univariados pero con algunas ligeras modificaciones."
   ]
  },
  {
   "cell_type": "markdown",
   "metadata": {
    "id": "hliQnKgIdfkF"
   },
   "source": [
    "### 6.1. Partición del set en entrenamiento, validación y prueba\n",
    "\n",
    "Esta fase es idéntica a la implementada en el modelo anterior (multivariado - unistep).\n",
    "\n",
    "A diferencia de otros modelos de Machine Learning, en el caso de series de tiempo **se debe garantizar que se generan las particiones sin mezclar aleatoriamente los datos**.\n",
    "\n",
    "Recordemos además que:\n",
    "- El set de entrenamiento (*train*) se usará para encontrar los parámetros del modelo\n",
    "- El set de validación (*val*) para verificar que no haya *under/over-fitting* del modelo y para ajustar sus hiperparámetros\n",
    "- El set de prueba (*test*) para poner a prueba el mejor modelo encontrado durante el entrenamiento/validación\n",
    "\n",
    "En este caso usaremos la misma función implementada para los modelos univariados con la diferencia de que en lugar de introducir una *serie* de Pandas, introduciremos el *DataFrame* completo.\n",
    "\n",
    "Por tanto, la función retornará tres *dataframes* (train, val y test):"
   ]
  },
  {
   "cell_type": "code",
   "execution_count": 4,
   "metadata": {
    "colab": {
     "base_uri": "https://localhost:8080/"
    },
    "executionInfo": {
     "elapsed": 254,
     "status": "ok",
     "timestamp": 1683665185902,
     "user": {
      "displayName": "Miguel Sotaquirá",
      "userId": "16233284746872182672"
     },
     "user_tz": 300
    },
    "id": "0U1B93AsdfHI",
    "outputId": "ac84791a-ab5a-4c77-d707-1b328f0e2e10"
   },
   "outputs": [
    {
     "name": "stdout",
     "output_type": "stream",
     "text": [
      "Tamaño set de entrenamiento: (40179, 13)\n",
      "Tamaño set de validación: (5022, 13)\n",
      "Tamaño set de prueba: (5023, 13)\n"
     ]
    }
   ],
   "source": [
    "# Función para generar las particiones preservando las características\n",
    "# de la serie de tiempo\n",
    "\n",
    "def train_val_test_split(dataframe, tr_size=0.8, vl_size=0.1, ts_size=0.1 ):\n",
    "    # Definir número de datos en cada subserie\n",
    "    N = dataframe.shape[0]\n",
    "    Ntrain = int(tr_size*N)  # Número de datos de entrenamiento\n",
    "    Nval = int(vl_size*N)    # Número de datos de validación\n",
    "    Ntst = N - Ntrain - Nval # Número de datos de prueba\n",
    "\n",
    "    # Realizar partición\n",
    "    train = dataframe[0:Ntrain]\n",
    "    val = dataframe[Ntrain:Ntrain+Nval]\n",
    "    test = dataframe[Ntrain+Nval:]\n",
    "\n",
    "    return train, val, test\n",
    "\n",
    "# Prueba de la función\n",
    "tr, vl, ts = train_val_test_split(df)\n",
    "\n",
    "print(f'Tamaño set de entrenamiento: {tr.shape}')\n",
    "print(f'Tamaño set de validación: {vl.shape}')\n",
    "print(f'Tamaño set de prueba: {ts.shape}')"
   ]
  },
  {
   "cell_type": "markdown",
   "metadata": {
    "id": "YngARdsv3ovD"
   },
   "source": [
    "Observemos que en lugar de una columna cada subset tiene ahora 13 (correspondientes a las covariables)."
   ]
  },
  {
   "cell_type": "code",
   "execution_count": 5,
   "metadata": {
    "colab": {
     "base_uri": "https://localhost:8080/",
     "height": 414
    },
    "executionInfo": {
     "elapsed": 1451,
     "status": "ok",
     "timestamp": 1683665208805,
     "user": {
      "displayName": "Miguel Sotaquirá",
      "userId": "16233284746872182672"
     },
     "user_tz": 300
    },
    "id": "8rc4OjTm9zgz",
    "outputId": "a4f713da-64ee-4b4a-e409-40de66c3dd58"
   },
   "outputs": [
    {
     "data": {
      "image/png": "[encoded data removed]",
      "text/plain": [
       "<Figure size 1600x500 with 1 Axes>"
      ]
     },
     "metadata": {},
     "output_type": "display_data"
    }
   ],
   "source": [
    "covar = 10 # Índice de la covariable (columna del dataset) a graficar\n",
    "col = df.columns[covar]\n",
    "\n",
    "# Dibujar los sets de entrenamiento/validación/prueba para la covariable\n",
    "fig, ax = plt.subplots(figsize = (16,5))\n",
    "ax.plot(tr[col], label='Train')\n",
    "ax.plot(vl[col], label='Val')\n",
    "ax.plot(ts[col], label='Test')\n",
    "ax.set_title(f'Covariable: {col}')\n",
    "plt.legend();"
   ]
  },
  {
   "cell_type": "markdown",
   "metadata": {
    "id": "uPygLImygXzB"
   },
   "source": [
    "### 6.2 Generación del dataset supervisado (entrada y salida del modelo)\n",
    "\n",
    "En este caso, con relación al modelo multivariado-multistep, cambiaremos el tamaño del dato de salida pues ahora se generarán 4 horas de predicciones consecutivas.\n",
    "\n",
    "Debemos ajustar nuestro set de datos de acuerdo a lo especificado en la [documentación de las Redes LSTM en TensorFlow/Keras](https://www.tensorflow.org/api_docs/python/tf/keras/layers/LSTM):\n",
    "\n",
    "![](https://drive.google.com/uc?export=view&id=1SgWsPot-pAB0upTCSwWoY-KDnJFNMD3A)"
   ]
  },
  {
   "cell_type": "markdown",
   "metadata": {
    "id": "2yN8RQ1AGxMZ"
   },
   "source": [
    "Así que en este caso cada dato de entrenamiento será:\n",
    "\n",
    "- Un arreglo de 24 (horas) x 13 (features) correspondiente a la entrada\n",
    "- Un arreglo de 4 (horas) x 1 (feature):\n",
    "\n",
    "![](https://drive.google.com/uc?export=view&id=1ShGZPnrdSkE3HbPgcy26MQcswQlvwc4P)\n",
    "\n",
    "En este caso, `INPUT_LENGTH` (24 horas) y `OUTPUT_LENGTH`(4 horas) se convertirán en hiperparámetros que más adelante se deberían afinar para mejorar el desempeño del modelo.\n",
    "\n",
    "Y usaremos la misma función usada en los tutoriales anteriores:"
   ]
  },
  {
   "cell_type": "code",
   "execution_count": 6,
   "metadata": {
    "executionInfo": {
     "elapsed": 3,
     "status": "ok",
     "timestamp": 1683665354031,
     "user": {
      "displayName": "Miguel Sotaquirá",
      "userId": "16233284746872182672"
     },
     "user_tz": 300
    },
    "id": "EuW8oY1QfnLQ"
   },
   "outputs": [],
   "source": [
    "def crear_dataset_supervisado(array, input_length, output_length):\n",
    "    '''Permite crear un dataset con las entradas (X) y salidas (Y)\n",
    "    requeridas por la Red LSTM.\n",
    "\n",
    "    Parámetros:\n",
    "    - array: arreglo numpy de tamaño N x features (N: cantidad de datos,\n",
    "      f: cantidad de features)\n",
    "    - input_length: instantes de tiempo consecutivos de la(s) serie(s) de tiempo\n",
    "      usados para alimentar el modelo\n",
    "    - output_length: instantes de tiempo a pronosticar (salida del modelo)\n",
    "    '''\n",
    "\n",
    "    # Inicialización\n",
    "    X, Y = [], []    # Listados que contendrán los datos de entrada y salida del modelo\n",
    "    shape = array.shape\n",
    "    if len(shape)==1: # Si tenemos sólo una serie (univariado)\n",
    "        fils, cols = array.shape[0], 1\n",
    "        array = array.reshape(fils,cols)\n",
    "    else: # Multivariado <-- <--- ¡esta parte de la función se ejecuta en este caso!\n",
    "        fils, cols = array.shape\n",
    "\n",
    "    # Generar los arreglos\n",
    "    for i in range(fils-input_length-output_length):\n",
    "        X.append(array[i:i+INPUT_LENGTH,0:cols])\n",
    "        Y.append(array[i+input_length:i+input_length+output_length,-1].reshape(output_length,1))\n",
    "    \n",
    "    # Convertir listas a arreglos de NumPy\n",
    "    X = np.array(X)\n",
    "    Y = np.array(Y)\n",
    "    \n",
    "    return X, Y"
   ]
  },
  {
   "cell_type": "code",
   "execution_count": 7,
   "metadata": {
    "colab": {
     "base_uri": "https://localhost:8080/"
    },
    "executionInfo": {
     "elapsed": 5,
     "status": "ok",
     "timestamp": 1683665364522,
     "user": {
      "displayName": "Miguel Sotaquirá",
      "userId": "16233284746872182672"
     },
     "user_tz": 300
    },
    "id": "bC1cEb9Q0YkX",
    "outputId": "ef281112-df3e-485b-a252-2734a1602488"
   },
   "outputs": [
    {
     "name": "stdout",
     "output_type": "stream",
     "text": [
      "Tamaños entrada (BATCHES x INPUT_LENGTH x FEATURES) y de salida (BATCHES x OUTPUT_LENGTH x FEATURES)\n",
      "Set de entrenamiento - x_tr: (40151, 24, 13), y_tr: (40151, 4, 1)\n",
      "Set de validación - x_vl: (4994, 24, 13), y_vl: (4994, 4, 1)\n",
      "Set de prueba - x_ts: (4995, 24, 13), y_ts: (4995, 4, 1)\n"
     ]
    }
   ],
   "source": [
    "# Crear los datasets de entrenamiento, prueba y validación y verificar sus tamaños\n",
    "INPUT_LENGTH = 24    # Hiperparámetro\n",
    "OUTPUT_LENGTH = 4    # Modelo multi-step\n",
    "\n",
    "x_tr, y_tr = crear_dataset_supervisado(tr.values, INPUT_LENGTH, OUTPUT_LENGTH)\n",
    "x_vl, y_vl = crear_dataset_supervisado(vl.values, INPUT_LENGTH, OUTPUT_LENGTH)\n",
    "x_ts, y_ts = crear_dataset_supervisado(ts.values, INPUT_LENGTH, OUTPUT_LENGTH)\n",
    "\n",
    "# Imprimir información en pantalla\n",
    "print('Tamaños entrada (BATCHES x INPUT_LENGTH x FEATURES) y de salida (BATCHES x OUTPUT_LENGTH x FEATURES)')\n",
    "print(f'Set de entrenamiento - x_tr: {x_tr.shape}, y_tr: {y_tr.shape}')\n",
    "print(f'Set de validación - x_vl: {x_vl.shape}, y_vl: {y_vl.shape}')\n",
    "print(f'Set de prueba - x_ts: {x_ts.shape}, y_ts: {y_ts.shape}')"
   ]
  },
  {
   "cell_type": "markdown",
   "metadata": {
    "id": "T8Oqcn_FwEXW"
   },
   "source": [
    "### 6.3 Escalamiento\n",
    "\n",
    "Esta etapa es idéntica a la implementada en el modelo anterior (multivariado-unistep).\n",
    "\n",
    "Es requerido para garantizar que todas las características se encuentran en el mismo rango de valores, lo que facilita el entrenamiento del modelo y las predicciones.\n",
    "\n",
    "En comparación con entradas univariadas, en este caso por tener múltiples variables de entrada se requiere escalar cada una de ellas a la entrada del modelo. Por tanto se creará un total de 13 escaladores (1 por cada covariable).\n",
    "\n",
    "Sin embargo, a la salida del modelo seguiremos teniendo sólo 1 variable a predecir (la temperatura) y por tanto sólo es necesario escalar dicha variable en el arreglo *Y* de salida:"
   ]
  },
  {
   "cell_type": "code",
   "execution_count": 8,
   "metadata": {
    "executionInfo": {
     "elapsed": 992,
     "status": "ok",
     "timestamp": 1683665440453,
     "user": {
      "displayName": "Miguel Sotaquirá",
      "userId": "16233284746872182672"
     },
     "user_tz": 300
    },
    "id": "0O-_M_AIj5nR"
   },
   "outputs": [],
   "source": [
    "from sklearn.preprocessing import MinMaxScaler\n",
    "\n",
    "def escalar_dataset(data_input, col_ref):\n",
    "    '''Escala el dataset en el rango de -1 a 1.\n",
    "\n",
    "    Entradas:\n",
    "    - data_input: diccionario con los dataset de entrada y salida del modelo\n",
    "    (data_input = {'x_tr':x_tr, 'y_tr':y_tr, 'x_vl':x_vl, 'y_vl':y_vl,\n",
    "                    'y_ts':y_ts})\n",
    "    - col_ref: parámetro adicional para especificar la columna que contiene\n",
    "      la variable a predecir\n",
    "\n",
    "    \n",
    "    Retorna:\n",
    "    - data_scaled: diccionario con los datasets de entrada y salida escalados\n",
    "      (tiene la misma estructura del diccionario de entrada)\n",
    "    - scaler: el escalador usado (requerido para las predicciones)\n",
    "    '''\n",
    "\n",
    "    # *** Implementación adicional: determinar el índice de la columna\n",
    "    # que contiene la variable a predecir\n",
    "    col_ref = df.columns.get_loc(col_ref)\n",
    "\n",
    "    # Número de instantes de tiempo de entrada y de covariables\n",
    "    NSAMPLES = data_input['x_tr'].shape[1]\n",
    "    NFEATS = data_input['x_tr'].shape[2]\n",
    "\n",
    "    # Generar listado con \"scalers\" (1 por cada covariable de entrada)\n",
    "    scalers = [MinMaxScaler(feature_range=(-1,1)) for i in range(NFEATS)]\n",
    "\n",
    "    # Arreglos que contendrán los datasets escalados\n",
    "    x_tr_s = np.zeros(data_input['x_tr'].shape)\n",
    "    x_vl_s = np.zeros(data_input['x_vl'].shape)\n",
    "    x_ts_s = np.zeros(data_input['x_ts'].shape)\n",
    "    y_tr_s = np.zeros(data_input['y_tr'].shape)\n",
    "    y_vl_s = np.zeros(data_input['y_vl'].shape)\n",
    "    y_ts_s = np.zeros(data_input['y_ts'].shape)\n",
    "\n",
    "    # Escalamiento: se usarán los min/max del set de entrenamiento para\n",
    "    # escalar la totalidad de los datasets\n",
    "\n",
    "    # Escalamiento Xs\n",
    "    for i in range(NFEATS):\n",
    "        x_tr_s[:,:,i] = scalers[i].fit_transform(x_tr[:,:,i])\n",
    "        x_vl_s[:,:,i] = scalers[i].transform(x_vl[:,:,i])\n",
    "        x_ts_s[:,:,i] = scalers[i].transform(x_ts[:,:,i])\n",
    "    \n",
    "    # Escalamiento Ys (teniendo en cuenta \"col_ind\")\n",
    "    y_tr_s[:,:,0] = scalers[col_ref].fit_transform(y_tr[:,:,0])\n",
    "    y_vl_s[:,:,0] = scalers[col_ref].transform(y_vl[:,:,0])\n",
    "    y_ts_s[:,:,0] = scalers[col_ref].transform(y_ts[:,:,0])\n",
    "\n",
    "    # Conformar diccionario de salida\n",
    "    data_scaled = {\n",
    "        'x_tr_s': x_tr_s, 'y_tr_s': y_tr_s,\n",
    "        'x_vl_s': x_vl_s, 'y_vl_s': y_vl_s,\n",
    "        'x_ts_s': x_ts_s, 'y_ts_s': y_ts_s,\n",
    "    }\n",
    "\n",
    "    return data_scaled, scalers[col_ref]"
   ]
  },
  {
   "cell_type": "code",
   "execution_count": 9,
   "metadata": {
    "executionInfo": {
     "elapsed": 994,
     "status": "ok",
     "timestamp": 1683665447744,
     "user": {
      "displayName": "Miguel Sotaquirá",
      "userId": "16233284746872182672"
     },
     "user_tz": 300
    },
    "id": "22NBDLIx0OLw"
   },
   "outputs": [],
   "source": [
    "# Escalamiento del dataset con la función anterior\n",
    "\n",
    "# Crear diccionario de entrada\n",
    "data_in = {\n",
    "    'x_tr': x_tr, 'y_tr': y_tr,\n",
    "    'x_vl': x_vl, 'y_vl': y_vl,\n",
    "    'x_ts': x_ts, 'y_ts': y_ts,\n",
    "}\n",
    "\n",
    "# Y escalar (especificando la columna con la variable a predecir)\n",
    "data_s, scaler = escalar_dataset(data_in, col_ref = 'T (degC)' )\n",
    "\n",
    "# Extraer subsets escalados\n",
    "x_tr_s, y_tr_s = data_s['x_tr_s'], data_s['y_tr_s']\n",
    "x_vl_s, y_vl_s = data_s['x_vl_s'], data_s['y_vl_s']\n",
    "x_ts_s, y_ts_s = data_s['x_ts_s'], data_s['y_ts_s']"
   ]
  },
  {
   "cell_type": "code",
   "execution_count": 10,
   "metadata": {
    "colab": {
     "base_uri": "https://localhost:8080/",
     "height": 479
    },
    "executionInfo": {
     "elapsed": 30349,
     "status": "ok",
     "timestamp": 1683665478958,
     "user": {
      "displayName": "Miguel Sotaquirá",
      "userId": "16233284746872182672"
     },
     "user_tz": 300
    },
    "id": "nEfNeyGE85DA",
    "outputId": "3abe9ad6-abbd-4ba9-da36-f2eaa987205a"
   },
   "outputs": [
    {
     "data": {
      "image/png": "[encoded data removed]",
      "text/plain": [
       "<Figure size 1200x400 with 1 Axes>"
      ]
     },
     "metadata": {},
     "output_type": "display_data"
    }
   ],
   "source": [
    "# Y generemos una gráfica tipo violín para ver la distribución\n",
    "# de los valores en cada covariable (entrada) y en la variable a\n",
    "# predecir (salida)\n",
    "\n",
    "fig, ax = plt.subplots(figsize=(12,4))\n",
    "for i in range(13):\n",
    "    ax.violinplot(dataset=x_tr_s[:,:,i].flatten(), positions=[i])\n",
    "    ax.violinplot(dataset=x_vl_s[:,:,i].flatten(), positions=[i])\n",
    "    ax.violinplot(dataset=x_ts_s[:,:,i].flatten(), positions=[i])\n",
    "\n",
    "# Etiquetas eje horizontal\n",
    "ax.set_xticks(list(range(13)))\n",
    "ax.set_xticklabels(df.keys(), rotation=90)\n",
    "ax.autoscale();"
   ]
  },
  {
   "cell_type": "code",
   "execution_count": 11,
   "metadata": {
    "colab": {
     "base_uri": "https://localhost:8080/",
     "height": 368
    },
    "executionInfo": {
     "elapsed": 731,
     "status": "ok",
     "timestamp": 1683665483767,
     "user": {
      "displayName": "Miguel Sotaquirá",
      "userId": "16233284746872182672"
     },
     "user_tz": 300
    },
    "id": "TnEpCK3R8rtt",
    "outputId": "9b0b0f23-35c7-46ad-a71c-7194eda502c5"
   },
   "outputs": [
    {
     "data": {
      "image/png": "[encoded data removed]",
      "text/plain": [
       "<Figure size 600x400 with 1 Axes>"
      ]
     },
     "metadata": {},
     "output_type": "display_data"
    }
   ],
   "source": [
    "# Y hagamos lo mismo con la variable de salida:\n",
    "fig, ax = plt.subplots(figsize=(6,4))\n",
    "ax.violinplot(dataset=y_tr_s.flatten())\n",
    "ax.violinplot(dataset=y_vl_s.flatten())\n",
    "ax.violinplot(dataset=y_ts_s.flatten())\n",
    "ax.set_xticks([1])\n",
    "ax.set_xticklabels(['y (salida)']);"
   ]
  },
  {
   "cell_type": "markdown",
   "metadata": {
    "id": "016D9eVw3Beb"
   },
   "source": [
    "## 7. Creación y entrenamiento del modelo\n",
    "\n",
    "- Entradas: arreglos *x* (batches x input-length  x features = batches x 24 x 13)\n",
    "- Salidas: arreglos *y* (batches x output-length x features = batches x 4 x 1)\n",
    "\n",
    "Usaremos la raíz cuadrada del error cuadrático medio (o RMSE por sus siglas en Inglés: *root mean square error*) como pérdida para entrenar el modelo:\n",
    "\n",
    "$RMSE = \\sqrt{\\frac{\\sum_i (y_i-\\hat{y_i})^2}{N}}$\n",
    "\n",
    "donde:\n",
    "- $y$: temperatura real\n",
    "- $\\hat{y}$: temperatura predicha\n",
    "- $N$: cantidad de predicciones"
   ]
  },
  {
   "cell_type": "code",
   "execution_count": 12,
   "metadata": {
    "colab": {
     "base_uri": "https://localhost:8080/"
    },
    "executionInfo": {
     "elapsed": 72776,
     "status": "ok",
     "timestamp": 1683665671798,
     "user": {
      "displayName": "Miguel Sotaquirá",
      "userId": "16233284746872182672"
     },
     "user_tz": 300
    },
    "id": "ZzLT0-UP02FP",
    "outputId": "20cca618-5404-4741-f93c-894a65cf6f34",
    "scrolled": true
   },
   "outputs": [
    {
     "name": "stderr",
     "output_type": "stream",
     "text": [
      "C:\\Users\\grego\\anaconda3\\Lib\\site-packages\\keras\\src\\layers\\rnn\\rnn.py:204: UserWarning: Do not pass an `input_shape`/`input_dim` argument to a layer. When using Sequential models, prefer using an `Input(shape)` object as the first layer in the model instead.\n",
      "  super().__init__(**kwargs)\n"
     ]
    },
    {
     "name": "stdout",
     "output_type": "stream",
     "text": [
      "Epoch 1/80\n",
      "157/157 - 27s - 171ms/step - loss: 0.1484 - val_loss: 0.1344\n",
      "Epoch 2/80\n",
      "157/157 - 21s - 135ms/step - loss: 0.1341 - val_loss: 0.1268\n",
      "Epoch 3/80\n",
      "157/157 - 21s - 135ms/step - loss: 0.1306 - val_loss: 0.1248\n",
      "Epoch 4/80\n",
      "157/157 - 22s - 139ms/step - loss: 0.1295 - val_loss: 0.1239\n",
      "Epoch 5/80\n",
      "157/157 - 41s - 259ms/step - loss: 0.1288 - val_loss: 0.1233\n",
      "Epoch 6/80\n",
      "157/157 - 41s - 261ms/step - loss: 0.1283 - val_loss: 0.1228\n",
      "Epoch 7/80\n",
      "157/157 - 21s - 135ms/step - loss: 0.1278 - val_loss: 0.1223\n",
      "Epoch 8/80\n",
      "157/157 - 22s - 142ms/step - loss: 0.1273 - val_loss: 0.1218\n",
      "Epoch 9/80\n",
      "157/157 - 22s - 141ms/step - loss: 0.1269 - val_loss: 0.1214\n",
      "Epoch 10/80\n",
      "157/157 - 40s - 257ms/step - loss: 0.1265 - val_loss: 0.1211\n",
      "Epoch 11/80\n",
      "157/157 - 22s - 138ms/step - loss: 0.1262 - val_loss: 0.1209\n",
      "Epoch 12/80\n",
      "157/157 - 23s - 145ms/step - loss: 0.1259 - val_loss: 0.1208\n",
      "Epoch 13/80\n",
      "157/157 - 22s - 142ms/step - loss: 0.1257 - val_loss: 0.1206\n",
      "Epoch 14/80\n",
      "157/157 - 22s - 141ms/step - loss: 0.1255 - val_loss: 0.1205\n",
      "Epoch 15/80\n",
      "157/157 - 41s - 259ms/step - loss: 0.1253 - val_loss: 0.1205\n",
      "Epoch 16/80\n",
      "157/157 - 22s - 139ms/step - loss: 0.1251 - val_loss: 0.1204\n",
      "Epoch 17/80\n",
      "157/157 - 41s - 261ms/step - loss: 0.1249 - val_loss: 0.1203\n",
      "Epoch 18/80\n",
      "157/157 - 23s - 144ms/step - loss: 0.1248 - val_loss: 0.1203\n",
      "Epoch 19/80\n",
      "157/157 - 42s - 269ms/step - loss: 0.1246 - val_loss: 0.1202\n",
      "Epoch 20/80\n",
      "157/157 - 22s - 140ms/step - loss: 0.1245 - val_loss: 0.1202\n",
      "Epoch 21/80\n",
      "157/157 - 22s - 140ms/step - loss: 0.1243 - val_loss: 0.1201\n",
      "Epoch 22/80\n",
      "157/157 - 22s - 141ms/step - loss: 0.1242 - val_loss: 0.1200\n",
      "Epoch 23/80\n",
      "157/157 - 40s - 257ms/step - loss: 0.1241 - val_loss: 0.1200\n",
      "Epoch 24/80\n",
      "157/157 - 41s - 259ms/step - loss: 0.1239 - val_loss: 0.1199\n",
      "Epoch 25/80\n",
      "157/157 - 22s - 142ms/step - loss: 0.1238 - val_loss: 0.1198\n",
      "Epoch 26/80\n",
      "157/157 - 22s - 139ms/step - loss: 0.1237 - val_loss: 0.1198\n",
      "Epoch 27/80\n",
      "157/157 - 21s - 137ms/step - loss: 0.1236 - val_loss: 0.1197\n",
      "Epoch 28/80\n",
      "157/157 - 22s - 139ms/step - loss: 0.1235 - val_loss: 0.1196\n",
      "Epoch 29/80\n",
      "157/157 - 23s - 147ms/step - loss: 0.1233 - val_loss: 0.1196\n",
      "Epoch 30/80\n",
      "157/157 - 23s - 146ms/step - loss: 0.1232 - val_loss: 0.1195\n",
      "Epoch 31/80\n",
      "157/157 - 22s - 138ms/step - loss: 0.1231 - val_loss: 0.1195\n",
      "Epoch 32/80\n",
      "157/157 - 21s - 133ms/step - loss: 0.1230 - val_loss: 0.1195\n",
      "Epoch 33/80\n",
      "157/157 - 22s - 139ms/step - loss: 0.1229 - val_loss: 0.1194\n",
      "Epoch 34/80\n",
      "157/157 - 22s - 138ms/step - loss: 0.1228 - val_loss: 0.1194\n",
      "Epoch 35/80\n",
      "157/157 - 22s - 137ms/step - loss: 0.1227 - val_loss: 0.1194\n",
      "Epoch 36/80\n",
      "157/157 - 21s - 136ms/step - loss: 0.1226 - val_loss: 0.1194\n",
      "Epoch 37/80\n",
      "157/157 - 21s - 135ms/step - loss: 0.1225 - val_loss: 0.1194\n",
      "Epoch 38/80\n",
      "157/157 - 21s - 133ms/step - loss: 0.1225 - val_loss: 0.1194\n",
      "Epoch 39/80\n",
      "157/157 - 21s - 132ms/step - loss: 0.1224 - val_loss: 0.1194\n",
      "Epoch 40/80\n",
      "157/157 - 21s - 133ms/step - loss: 0.1223 - val_loss: 0.1194\n",
      "Epoch 41/80\n",
      "157/157 - 21s - 135ms/step - loss: 0.1222 - val_loss: 0.1194\n",
      "Epoch 42/80\n",
      "157/157 - 21s - 137ms/step - loss: 0.1221 - val_loss: 0.1194\n",
      "Epoch 43/80\n",
      "157/157 - 21s - 133ms/step - loss: 0.1220 - val_loss: 0.1194\n",
      "Epoch 44/80\n",
      "157/157 - 21s - 133ms/step - loss: 0.1220 - val_loss: 0.1194\n",
      "Epoch 45/80\n",
      "157/157 - 21s - 131ms/step - loss: 0.1219 - val_loss: 0.1194\n",
      "Epoch 46/80\n",
      "157/157 - 21s - 131ms/step - loss: 0.1218 - val_loss: 0.1194\n",
      "Epoch 47/80\n",
      "157/157 - 21s - 132ms/step - loss: 0.1217 - val_loss: 0.1194\n",
      "Epoch 48/80\n",
      "157/157 - 21s - 133ms/step - loss: 0.1216 - val_loss: 0.1194\n",
      "Epoch 49/80\n",
      "157/157 - 20s - 130ms/step - loss: 0.1216 - val_loss: 0.1194\n",
      "Epoch 50/80\n",
      "157/157 - 20s - 130ms/step - loss: 0.1215 - val_loss: 0.1194\n",
      "Epoch 51/80\n",
      "157/157 - 20s - 130ms/step - loss: 0.1214 - val_loss: 0.1194\n",
      "Epoch 52/80\n",
      "157/157 - 20s - 128ms/step - loss: 0.1213 - val_loss: 0.1194\n",
      "Epoch 53/80\n",
      "157/157 - 20s - 127ms/step - loss: 0.1212 - val_loss: 0.1194\n",
      "Epoch 54/80\n",
      "157/157 - 21s - 132ms/step - loss: 0.1211 - val_loss: 0.1194\n",
      "Epoch 55/80\n",
      "157/157 - 21s - 131ms/step - loss: 0.1211 - val_loss: 0.1194\n",
      "Epoch 56/80\n",
      "157/157 - 20s - 130ms/step - loss: 0.1210 - val_loss: 0.1194\n",
      "Epoch 57/80\n",
      "157/157 - 21s - 136ms/step - loss: 0.1209 - val_loss: 0.1194\n",
      "Epoch 58/80\n",
      "157/157 - 21s - 131ms/step - loss: 0.1208 - val_loss: 0.1194\n",
      "Epoch 59/80\n",
      "157/157 - 21s - 135ms/step - loss: 0.1207 - val_loss: 0.1194\n",
      "Epoch 60/80\n",
      "157/157 - 21s - 134ms/step - loss: 0.1206 - val_loss: 0.1195\n",
      "Epoch 61/80\n",
      "157/157 - 22s - 139ms/step - loss: 0.1205 - val_loss: 0.1195\n",
      "Epoch 62/80\n",
      "157/157 - 21s - 137ms/step - loss: 0.1204 - val_loss: 0.1195\n",
      "Epoch 63/80\n",
      "157/157 - 21s - 135ms/step - loss: 0.1203 - val_loss: 0.1195\n",
      "Epoch 64/80\n",
      "157/157 - 21s - 136ms/step - loss: 0.1202 - val_loss: 0.1196\n",
      "Epoch 65/80\n",
      "157/157 - 21s - 136ms/step - loss: 0.1202 - val_loss: 0.1196\n",
      "Epoch 66/80\n",
      "157/157 - 21s - 136ms/step - loss: 0.1201 - val_loss: 0.1196\n",
      "Epoch 67/80\n",
      "157/157 - 21s - 134ms/step - loss: 0.1200 - val_loss: 0.1197\n",
      "Epoch 68/80\n",
      "157/157 - 21s - 133ms/step - loss: 0.1199 - val_loss: 0.1197\n",
      "Epoch 69/80\n",
      "157/157 - 21s - 133ms/step - loss: 0.1197 - val_loss: 0.1198\n",
      "Epoch 70/80\n",
      "157/157 - 21s - 135ms/step - loss: 0.1196 - val_loss: 0.1198\n",
      "Epoch 71/80\n",
      "157/157 - 41s - 259ms/step - loss: 0.1195 - val_loss: 0.1199\n",
      "Epoch 72/80\n",
      "157/157 - 21s - 133ms/step - loss: 0.1194 - val_loss: 0.1199\n",
      "Epoch 73/80\n",
      "157/157 - 21s - 133ms/step - loss: 0.1193 - val_loss: 0.1200\n",
      "Epoch 74/80\n",
      "157/157 - 21s - 134ms/step - loss: 0.1192 - val_loss: 0.1201\n",
      "Epoch 75/80\n",
      "157/157 - 21s - 133ms/step - loss: 0.1191 - val_loss: 0.1201\n",
      "Epoch 76/80\n",
      "157/157 - 21s - 132ms/step - loss: 0.1190 - val_loss: 0.1202\n",
      "Epoch 77/80\n",
      "157/157 - 21s - 132ms/step - loss: 0.1189 - val_loss: 0.1203\n",
      "Epoch 78/80\n",
      "157/157 - 21s - 132ms/step - loss: 0.1187 - val_loss: 0.1204\n",
      "Epoch 79/80\n",
      "157/157 - 21s - 133ms/step - loss: 0.1186 - val_loss: 0.1205\n",
      "Epoch 80/80\n",
      "157/157 - 21s - 133ms/step - loss: 0.1185 - val_loss: 0.1206\n"
     ]
    }
   ],
   "source": [
    "# Creación del modelo\n",
    "from tensorflow.keras.models import Sequential\n",
    "from tensorflow.keras.layers import LSTM, Dense\n",
    "from tensorflow.keras.optimizers import RMSprop, Adam\n",
    "import tensorflow as tf\n",
    "\n",
    "# Ajustar parámetros para reproducibilidad del entrenamiento\n",
    "tf.random.set_seed(123)\n",
    "tf.config.experimental.enable_op_determinism()\n",
    "\n",
    "# El modelo\n",
    "N_UNITS = 128 # Tamaño del estado oculto (h) y de la celdad de memoria (c) (128)\n",
    "INPUT_SHAPE = (x_tr_s.shape[1], x_tr_s.shape[2]) # 24 (horas) x 13 (features)\n",
    "\n",
    "modelo = Sequential()\n",
    "modelo.add(LSTM(N_UNITS, input_shape=INPUT_SHAPE))\n",
    "\n",
    "# Y lo único que cambia con respecto al modelo multivariado + multi-step es\n",
    "# el tamaño deldato de salida (4 horas)\n",
    "modelo.add(Dense(OUTPUT_LENGTH, activation='linear')) # activation = 'linear' pues queremos pronosticar (regresión)\n",
    "\n",
    "# Pérdida: se usará el RMSE (root mean squared error) para el entrenamiento\n",
    "# pues permite tener errores en las mismas unidades de la temperatura\n",
    "def root_mean_squared_error(y_true, y_pred):\n",
    "    rmse = tf.math.sqrt(tf.math.reduce_mean(tf.square(y_pred-y_true)))\n",
    "    return rmse\n",
    "\n",
    "# Compilación\n",
    "optimizador = RMSprop(learning_rate=5e-4) # 5e-5\n",
    "modelo.compile(\n",
    "    optimizer = optimizador,\n",
    "    loss = root_mean_squared_error,\n",
    ")\n",
    "\n",
    "# Entrenamiento (aproximadamente 1 min usando GPU)\n",
    "EPOCHS = 80 # Hiperparámetro\n",
    "BATCH_SIZE = 256 # Hiperparámetro\n",
    "historia = modelo.fit(\n",
    "    x = x_tr_s,\n",
    "    y = y_tr_s,\n",
    "    batch_size = BATCH_SIZE,\n",
    "    epochs = EPOCHS,\n",
    "    validation_data = (x_vl_s, y_vl_s),\n",
    "    verbose=2\n",
    ")"
   ]
  },
  {
   "cell_type": "code",
   "execution_count": 13,
   "metadata": {
    "colab": {
     "base_uri": "https://localhost:8080/",
     "height": 449
    },
    "executionInfo": {
     "elapsed": 1001,
     "status": "ok",
     "timestamp": 1683665693089,
     "user": {
      "displayName": "Miguel Sotaquirá",
      "userId": "16233284746872182672"
     },
     "user_tz": 300
    },
    "id": "JeLuM5w01hbZ",
    "outputId": "12420020-2bf1-49c6-ffaf-bbd2d6fbc8ee"
   },
   "outputs": [
    {
     "data": {
      "image/png": "[encoded data removed]",
      "text/plain": [
       "<Figure size 640x480 with 1 Axes>"
      ]
     },
     "metadata": {},
     "output_type": "display_data"
    }
   ],
   "source": [
    " # Graficar curvas de entrenamiento y validación\n",
    " # para verificar que no existe overfitting\n",
    "plt.plot(historia.history['loss'],label='RMSE train')\n",
    "plt.plot(historia.history['val_loss'],label='RMSE val')\n",
    "plt.xlabel('Iteración')\n",
    "plt.ylabel('RMSE')\n",
    "plt.legend();"
   ]
  },
  {
   "cell_type": "markdown",
   "metadata": {
    "id": "nWO45OqI6kq9"
   },
   "source": [
    "**Observaciones y sugerencias:**\n",
    "\n",
    "- En este caso (modelo multivariado-multistep) el desempeño obtenido (RMSE) es ligeramente inferior al obtenido en el caso del modelo anterior (multivariado-unistep). En este caso el RMSE es del orden de 0.12, mientras que en el modelo del tutorial anterior el desempeño era 0.10.\n",
    "- En todo caso es importante tener en cuenta que se sugiere afinar los hiperparámetros de cada modelo para poder realizar comparaciones concluyentes.\n",
    "- Al igual que en el caso del modelo multivariado-unistep en este caso, además de la afinación de hiperparámetros, se sugierer realizar un análisis de *feature importances* para determinar las covariables más relevantes en la predicción.\n",
    "\n",
    "De nuevo, en la afinación se deberían considerar los siguientes hiperparámetros:\n",
    "- *INPUT_LENGTH* y *OUTPUT_LENGTH* (esto implica modificar la fase de pre-procesamiento)\n",
    "- Número de unidades de la Red LSTM\n",
    "- Pérdida\n",
    "- Tasa de aprendizaje\n",
    "- Epochs\n",
    "- Batch size\n"
   ]
  },
  {
   "cell_type": "markdown",
   "metadata": {
    "id": "ZkI9vr5S69i_"
   },
   "source": [
    "## 8. Desempeño del modelo\n",
    "\n",
    "Suponiendo que el modelo ya ha sido afinado y entrenado, verificaremos su desempeño para el set de prueba y lo compararemos con el desempeño obtenido con los sets de entrenamiento y validación:"
   ]
  },
  {
   "cell_type": "code",
   "execution_count": 14,
   "metadata": {
    "colab": {
     "base_uri": "https://localhost:8080/"
    },
    "executionInfo": {
     "elapsed": 6826,
     "status": "ok",
     "timestamp": 1683665812198,
     "user": {
      "displayName": "Miguel Sotaquirá",
      "userId": "16233284746872182672"
     },
     "user_tz": 300
    },
    "id": "QuX5n8_17MqV",
    "outputId": "25053274-9d66-461b-d6b3-baee1a23fef2"
   },
   "outputs": [
    {
     "name": "stdout",
     "output_type": "stream",
     "text": [
      "Comparativo desempeños:\n",
      "  RMSE train:\t 0.114\n",
      "  RMSE val:\t 0.117\n",
      "  RMSE test:\t 0.126\n"
     ]
    }
   ],
   "source": [
    "# Cálculo de rmses para train, val y test\n",
    "rmse_tr = modelo.evaluate(x=x_tr_s, y=y_tr_s, verbose=0)\n",
    "rmse_vl = modelo.evaluate(x=x_vl_s, y=y_vl_s, verbose=0)\n",
    "rmse_ts = modelo.evaluate(x=x_ts_s, y=y_ts_s, verbose=0)\n",
    "\n",
    "# Imprimir resultados en pantalla\n",
    "print('Comparativo desempeños:')\n",
    "print(f'  RMSE train:\\t {rmse_tr:.3f}')\n",
    "print(f'  RMSE val:\\t {rmse_vl:.3f}')\n",
    "print(f'  RMSE test:\\t {rmse_ts:.3f}')"
   ]
  },
  {
   "cell_type": "markdown",
   "metadata": {
    "id": "yE6wU6CL1oX-"
   },
   "source": [
    "El desempeño para el set de prueba es comparable \n",
    "(aunque ligeramente inferior) con los sets de entrenamiento y validación y por tanto podemos concluir que el modelo generaliza adecuadamente.\n",
    "\n",
    "De nuevo, se debería afinar el modelo + realizar análisis de *feature importances* para intentar mejorar el desempeño."
   ]
  },
  {
   "cell_type": "markdown",
   "metadata": {
    "id": "I8SG-FRC2Du7"
   },
   "source": [
    "Al igual que hicimos con el modelo univariado-multistep analicemos los errores (RMSEs) individuales para cada una de las horas predichas, para lo cual:\n",
    "\n",
    "1. Generaremos las predicciones sobre la totalidad del set de prueba con el modelo entrenado.\n",
    "2. Calcularemos y graficaremos el RMSE para cada instante de tiempo predicho"
   ]
  },
  {
   "cell_type": "code",
   "execution_count": 15,
   "metadata": {
    "colab": {
     "base_uri": "https://localhost:8080/",
     "height": 449
    },
    "executionInfo": {
     "elapsed": 1538,
     "status": "ok",
     "timestamp": 1683665872176,
     "user": {
      "displayName": "Miguel Sotaquirá",
      "userId": "16233284746872182672"
     },
     "user_tz": 300
    },
    "id": "JbOffadR2P06",
    "outputId": "0acf89b4-6ed0-4822-9435-bd8e063e480f"
   },
   "outputs": [
    {
     "data": {
      "image/png": "[encoded data removed]",
      "text/plain": [
       "<Figure size 640x480 with 1 Axes>"
      ]
     },
     "metadata": {},
     "output_type": "display_data"
    }
   ],
   "source": [
    "# 1. Generar las predicciones sobre el set de prueba\n",
    "y_ts_pred_s = modelo.predict(x_ts_s, verbose=0)\n",
    "\n",
    "# 2. Realizar la transformación inversa de las predicciones para llevar sus\n",
    "# valores a la escala original\n",
    "y_ts_pred = scaler.inverse_transform(y_ts_pred_s)\n",
    "\n",
    "# 3. Calcular RMSE para cada instante de tiempo predicho\n",
    "diff_cuad = np.square(y_ts.squeeze()-y_ts_pred) # BATCHESx4\n",
    "proms = np.mean(diff_cuad, axis=0) # 1x4\n",
    "rmse = np.sqrt(proms) # 1x4\n",
    "\n",
    "# Graficar rmse para cada timestep\n",
    "t = np.linspace(1,4,4)\n",
    "\n",
    "fig, ax = plt.subplots()\n",
    "ax.scatter(t,rmse)\n",
    "ax.set_xlabel('Hora predicha')\n",
    "ax.set_ylabel('Error RMSE (°C)')\n",
    "plt.xticks(ticks=t, labels=t)\n",
    "plt.grid();"
   ]
  },
  {
   "cell_type": "markdown",
   "metadata": {
    "id": "pmeM9EoQ2aoF"
   },
   "source": [
    "Y al igual que ocurría con el modelo univariado-multistep, vemos que en este caso el RMSE se incrementa a medida que nos movemos más hacia adelante en las predicciones.\n",
    "\n",
    "De nuevo esto es un resultado preliminar y se sugiere afinar los hiperparámetros y realizar un análisis de *feature importances* para intentar mejorar este desempeño."
   ]
  },
  {
   "cell_type": "markdown",
   "metadata": {
    "id": "fvqk4f8L3aXE"
   },
   "source": [
    "## 9. Predicciones con el modelo entrenado\n",
    "\n",
    "Suponiendo que el modelo ya ha sido afinado, podemos ponerlo a prueba con el set *test*.\n",
    "\n",
    "Usaremos la misma función `predecir` usada en los videos anteriores:"
   ]
  },
  {
   "cell_type": "code",
   "execution_count": 16,
   "metadata": {
    "executionInfo": {
     "elapsed": 246,
     "status": "ok",
     "timestamp": 1683665932374,
     "user": {
      "displayName": "Miguel Sotaquirá",
      "userId": "16233284746872182672"
     },
     "user_tz": 300
    },
    "id": "loi8x-hl3vtj"
   },
   "outputs": [],
   "source": [
    "def predecir(x, model, scaler):\n",
    "    '''Genera la predicción de OUTPUT_LENGTH instantes\n",
    "    de tiempo a futuro con el modelo entrenado.\n",
    "\n",
    "    Entrada:\n",
    "    - x: batch (o batches) de datos para ingresar al modelo\n",
    "      (tamaño: BATCHES X INPUT_LENGTH X FEATURES)\n",
    "    - model: Red LSTM entrenada\n",
    "    - scaler: escalador (requerido para llevar la predicción a la escala original)\n",
    "    \n",
    "    Salida:\n",
    "    - y_pred: la predicción en la escala original (tamaño: BATCHES X OUTPUT_LENGTH X FEATURES)\n",
    "    '''\n",
    "\n",
    "    # Calcular predicción escalada en el rango de -1 a 1\n",
    "    y_pred_s = model.predict(x,verbose=0)\n",
    "\n",
    "    # Llevar la predicción a la escala original\n",
    "    y_pred = scaler.inverse_transform(y_pred_s)\n",
    "\n",
    "    return y_pred.flatten()"
   ]
  },
  {
   "cell_type": "code",
   "execution_count": 17,
   "metadata": {
    "executionInfo": {
     "elapsed": 290,
     "status": "ok",
     "timestamp": 1683665935562,
     "user": {
      "displayName": "Miguel Sotaquirá",
      "userId": "16233284746872182672"
     },
     "user_tz": 300
    },
    "id": "8-W5qJKV46Oy"
   },
   "outputs": [],
   "source": [
    "# Calcular predicciones sobre el set de prueba\n",
    "y_ts_pred = predecir(x_ts_s, modelo, scaler)"
   ]
  },
  {
   "cell_type": "markdown",
   "metadata": {
    "id": "ulWV0CfZ5ZHV"
   },
   "source": [
    "Analicemos este desempeño gráficamente mostrando las temperaturas originales y las predichas por el modelo para cada uno de los datos en el set de prueba:"
   ]
  },
  {
   "cell_type": "code",
   "execution_count": 18,
   "metadata": {
    "colab": {
     "base_uri": "https://localhost:8080/",
     "height": 430
    },
    "executionInfo": {
     "elapsed": 316,
     "status": "ok",
     "timestamp": 1683665951142,
     "user": {
      "displayName": "Miguel Sotaquirá",
      "userId": "16233284746872182672"
     },
     "user_tz": 300
    },
    "id": "xRLMWnEt5JM1",
    "outputId": "8f4b9188-508c-4e79-d989-a82679f1b9cc"
   },
   "outputs": [
    {
     "data": {
      "image/png": "[encoded data removed]",
      "text/plain": [
       "<Figure size 640x480 with 1 Axes>"
      ]
     },
     "metadata": {},
     "output_type": "display_data"
    }
   ],
   "source": [
    "N = len(y_ts_pred)    # Número de predicciones\n",
    "ndato = np.linspace(1,N,N)\n",
    "\n",
    "# Cálculo de errores simples\n",
    "errores = y_ts.flatten()-y_ts_pred.flatten()\n",
    "plt.plot(errores);"
   ]
  },
  {
   "cell_type": "markdown",
   "metadata": {
    "id": "PjQ15_P8-sBh"
   },
   "source": [
    "Se observa que:\n",
    "\n",
    "- El promedio de errores es cercano a cero\n",
    "- Pero en algunos instantes de tiempo se alcanzan errores extremos de hasta -6 y +5 grados.\n",
    "\n",
    "Estos errores se podrían reducir al hacer una afinación del modelo o modificando el enfoque de predicción."
   ]
  },
  {
   "cell_type": "markdown",
   "metadata": {
    "id": "0AFY2trj_KLo"
   },
   "source": [
    "## 10. Conclusiones y sugerencias\n",
    "\n",
    "- Hemos entrenado un cuarto modelo multivariado + multistep\n",
    "- Al igual que con el modelo multivariado-unistep del video anterior, en este caso hemos incluido una etapa de ingeniería de características antes de crear el dataset supervisado.\n",
    "- Para intentar mejorar el desempeño del modelo se sugiere afinar sus hiperparámetros y realizar un análisis de *feature importances*.\n",
    "\n",
    "Y con esto terminamos esta serie de videos en donde hemos visto los principales tipos de enfoques y de Redes LSTM que podemos usar para generar predicciones sobre series de tiempo.\n",
    "\n",
    "Sin embargo, en estos videos no hemos analizado otros elementos como por ejemplo el uso de la variable tiempo como covariable a la entrada de los modelos, o el análisis de importancia de las características para determinar cuáles covariables son más relevantes durante la predicción. Estos aspectos los podríamos analizar en otros videos más adelante."
   ]
  }
 ],
 "metadata": {
  "accelerator": "GPU",
  "colab": {
   "authorship_tag": "ABX9TyM5XKEFQXbcNJl5/uk5jRAi",
   "provenance": []
  },
  "gpuClass": "standard",
  "kernelspec": {
   "display_name": "Python 3 (ipykernel)",
   "language": "python",
   "name": "python3"
  },
  "language_info": {
   "codemirror_mode": {
    "name": "ipython",
    "version": 3
   },
   "file_extension": ".py",
   "mimetype": "text/x-python",
   "name": "python",
   "nbconvert_exporter": "python",
   "pygments_lexer": "ipython3",
   "version": "3.11.4"
  }
 },
 "nbformat": 4,
 "nbformat_minor": 1
}
