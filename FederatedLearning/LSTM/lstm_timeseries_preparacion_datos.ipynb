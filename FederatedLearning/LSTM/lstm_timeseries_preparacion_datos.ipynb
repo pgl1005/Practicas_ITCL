{
 "cells": [
  {
   "cell_type": "markdown",
   "metadata": {
    "id": "RjNdt4kC7hTA"
   },
   "source": [
    "# *FORECASTING* CON REDES LSTM - PARTE 1: PREPARACIÓN DE LOS DATOS"
   ]
  },
  {
   "cell_type": "markdown",
   "metadata": {
    "id": "QiP8J5o6qgvN"
   },
   "source": [
    "## Contenido\n",
    "\n",
    "1. [Introducción](#scrollTo=wHQ1yXwrk6CN)\n",
    "2. [El set de datos](#scrollTo=QDm0J6L-7rGI&line=1&uniqifier=1)\n",
    "3. [El problema a resolver](#scrollTo=CBJV_YRvj5CZ&line=1&uniqifier=1)\n",
    "4. [Lectura del set de datos](#scrollTo=Es6L4nEckb3S&line=1&uniqifier=1)\n",
    "5. [Procesamiento inicial del dataset](#scrollTo=vd5lyqNrlfFg&line=1&uniqifier=1)\n",
    "6. [Análisis exploratorio](#scrollTo=agblCRwTm6l0&line=1&uniqifier=1)\n",
    "7. [Pre-procesamiento](#scrollTo=VTf7ia-cy5PB&line=1&uniqifier=1)\n",
    "8. [Conclusión](#scrollTo=Vkg8weU_0jHD&line=1&uniqifier=1)"
   ]
  },
  {
   "cell_type": "markdown",
   "metadata": {
    "id": "wHQ1yXwrk6CN"
   },
   "source": [
    "## 1. Introducción\n",
    "\n",
    "En el video anterior vimos un panorama general de los diferentes enfoques que podemos usar para realizar pronósticos sobre series de tiempo usando Redes LSTM.\n",
    "\n",
    "En este video comenzaremos a ver el primer paso antes de implementar cualquiera de estos modelos predictivos, así que veremos cómo realizar el análisis exploratorio y el pre-procesamiento del set de datos."
   ]
  },
  {
   "cell_type": "markdown",
   "metadata": {
    "id": "QDm0J6L-7rGI"
   },
   "source": [
    "## 2. El set de datos\n",
    "\n",
    "Usaremos el [weather dataset](https://www.bgc-jena.mpg.de/wetter/weather_data.html), un set de datos del Instituto Planck para Biogeoquímica que contiene el registro histórico de diferentes variables climáticas.\n",
    "\n",
    "En particular:\n",
    "\n",
    "- Contiene 14 diferentes *features* (temperatura del aire, presión atmosférica, humedad, etc.)\n",
    "- Cada variable ha sido recolectada con una periodicidad de 1 hora comenzando en el año 2009.\n",
    "\n",
    "En este caso usaremos datos recolectados entre 2009 y 2015."
   ]
  },
  {
   "cell_type": "markdown",
   "metadata": {
    "id": "CBJV_YRvj5CZ"
   },
   "source": [
    "## 3. El problema a resolver\n",
    "\n",
    "Desarrollar modelos predictivos basados en redes LSTM usando los enfoques:\n",
    "\n",
    "1. Univariado + single-step\n",
    "2. Univariado + multi-step\n",
    "3. Multivariado + single-step\n",
    "4. Multivariado + multi-step"
   ]
  },
  {
   "cell_type": "markdown",
   "metadata": {
    "id": "Es6L4nEckb3S"
   },
   "source": [
    "## 4. Lectura del set de datos"
   ]
  },
  {
   "cell_type": "code",
   "execution_count": 5,
   "metadata": {
    "colab": {
     "base_uri": "https://localhost:8080/",
     "height": 694
    },
    "id": "GvROsCTA8nSB",
    "outputId": "7db53707-4157-421f-fa4c-46ddb20784fa"
   },
   "outputs": [
    {
     "data": {
      "text/html": [
       "<div>\n",
       "<style scoped>\n",
       "    .dataframe tbody tr th:only-of-type {\n",
       "        vertical-align: middle;\n",
       "    }\n",
       "\n",
       "    .dataframe tbody tr th {\n",
       "        vertical-align: top;\n",
       "    }\n",
       "\n",
       "    .dataframe thead th {\n",
       "        text-align: right;\n",
       "    }\n",
       "</style>\n",
       "<table border=\"1\" class=\"dataframe\">\n",
       "  <thead>\n",
       "    <tr style=\"text-align: right;\">\n",
       "      <th></th>\n",
       "      <th>datetime</th>\n",
       "      <th>p (mbar)</th>\n",
       "      <th>T (degC)</th>\n",
       "      <th>Tpot (K)</th>\n",
       "      <th>Tdew (degC)</th>\n",
       "      <th>rh (%)</th>\n",
       "      <th>VPmax (mbar)</th>\n",
       "      <th>VPact (mbar)</th>\n",
       "      <th>VPdef (mbar)</th>\n",
       "      <th>sh (g/kg)</th>\n",
       "      <th>H2OC (mmol/mol)</th>\n",
       "      <th>rho (g/m**3)</th>\n",
       "      <th>wv (m/s)</th>\n",
       "      <th>max. wv (m/s)</th>\n",
       "      <th>wd (deg)</th>\n",
       "    </tr>\n",
       "  </thead>\n",
       "  <tbody>\n",
       "    <tr>\n",
       "      <th>0</th>\n",
       "      <td>2009-01-01 01:00:00</td>\n",
       "      <td>996.50</td>\n",
       "      <td>-8.05</td>\n",
       "      <td>265.38</td>\n",
       "      <td>-8.78</td>\n",
       "      <td>94.40</td>\n",
       "      <td>3.33</td>\n",
       "      <td>3.14</td>\n",
       "      <td>0.19</td>\n",
       "      <td>1.96</td>\n",
       "      <td>3.15</td>\n",
       "      <td>1307.86</td>\n",
       "      <td>0.21</td>\n",
       "      <td>0.63</td>\n",
       "      <td>192.7</td>\n",
       "    </tr>\n",
       "    <tr>\n",
       "      <th>1</th>\n",
       "      <td>2009-01-01 02:00:00</td>\n",
       "      <td>996.62</td>\n",
       "      <td>-8.88</td>\n",
       "      <td>264.54</td>\n",
       "      <td>-9.77</td>\n",
       "      <td>93.20</td>\n",
       "      <td>3.12</td>\n",
       "      <td>2.90</td>\n",
       "      <td>0.21</td>\n",
       "      <td>1.81</td>\n",
       "      <td>2.91</td>\n",
       "      <td>1312.25</td>\n",
       "      <td>0.25</td>\n",
       "      <td>0.63</td>\n",
       "      <td>190.3</td>\n",
       "    </tr>\n",
       "    <tr>\n",
       "      <th>2</th>\n",
       "      <td>2009-01-01 03:00:00</td>\n",
       "      <td>996.84</td>\n",
       "      <td>-8.81</td>\n",
       "      <td>264.59</td>\n",
       "      <td>-9.66</td>\n",
       "      <td>93.50</td>\n",
       "      <td>3.13</td>\n",
       "      <td>2.93</td>\n",
       "      <td>0.20</td>\n",
       "      <td>1.83</td>\n",
       "      <td>2.94</td>\n",
       "      <td>1312.18</td>\n",
       "      <td>0.18</td>\n",
       "      <td>0.63</td>\n",
       "      <td>167.2</td>\n",
       "    </tr>\n",
       "    <tr>\n",
       "      <th>3</th>\n",
       "      <td>2009-01-01 04:00:00</td>\n",
       "      <td>996.99</td>\n",
       "      <td>-9.05</td>\n",
       "      <td>264.34</td>\n",
       "      <td>-10.02</td>\n",
       "      <td>92.60</td>\n",
       "      <td>3.07</td>\n",
       "      <td>2.85</td>\n",
       "      <td>0.23</td>\n",
       "      <td>1.78</td>\n",
       "      <td>2.85</td>\n",
       "      <td>1313.61</td>\n",
       "      <td>0.10</td>\n",
       "      <td>0.38</td>\n",
       "      <td>240.0</td>\n",
       "    </tr>\n",
       "    <tr>\n",
       "      <th>4</th>\n",
       "      <td>2009-01-01 05:00:00</td>\n",
       "      <td>997.46</td>\n",
       "      <td>-9.63</td>\n",
       "      <td>263.72</td>\n",
       "      <td>-10.65</td>\n",
       "      <td>92.20</td>\n",
       "      <td>2.94</td>\n",
       "      <td>2.71</td>\n",
       "      <td>0.23</td>\n",
       "      <td>1.69</td>\n",
       "      <td>2.71</td>\n",
       "      <td>1317.19</td>\n",
       "      <td>0.40</td>\n",
       "      <td>0.88</td>\n",
       "      <td>157.0</td>\n",
       "    </tr>\n",
       "    <tr>\n",
       "      <th>...</th>\n",
       "      <td>...</td>\n",
       "      <td>...</td>\n",
       "      <td>...</td>\n",
       "      <td>...</td>\n",
       "      <td>...</td>\n",
       "      <td>...</td>\n",
       "      <td>...</td>\n",
       "      <td>...</td>\n",
       "      <td>...</td>\n",
       "      <td>...</td>\n",
       "      <td>...</td>\n",
       "      <td>...</td>\n",
       "      <td>...</td>\n",
       "      <td>...</td>\n",
       "      <td>...</td>\n",
       "    </tr>\n",
       "    <tr>\n",
       "      <th>50219</th>\n",
       "      <td>2014-09-24 12:00:00</td>\n",
       "      <td>987.01</td>\n",
       "      <td>13.69</td>\n",
       "      <td>287.92</td>\n",
       "      <td>6.29</td>\n",
       "      <td>60.85</td>\n",
       "      <td>15.69</td>\n",
       "      <td>9.55</td>\n",
       "      <td>6.14</td>\n",
       "      <td>6.04</td>\n",
       "      <td>9.67</td>\n",
       "      <td>1194.28</td>\n",
       "      <td>2.92</td>\n",
       "      <td>4.00</td>\n",
       "      <td>174.1</td>\n",
       "    </tr>\n",
       "    <tr>\n",
       "      <th>50220</th>\n",
       "      <td>2014-09-24 13:00:00</td>\n",
       "      <td>986.55</td>\n",
       "      <td>14.19</td>\n",
       "      <td>288.47</td>\n",
       "      <td>6.80</td>\n",
       "      <td>61.01</td>\n",
       "      <td>16.21</td>\n",
       "      <td>9.89</td>\n",
       "      <td>6.32</td>\n",
       "      <td>6.26</td>\n",
       "      <td>10.02</td>\n",
       "      <td>1191.48</td>\n",
       "      <td>1.57</td>\n",
       "      <td>2.48</td>\n",
       "      <td>173.0</td>\n",
       "    </tr>\n",
       "    <tr>\n",
       "      <th>50221</th>\n",
       "      <td>2014-09-24 14:00:00</td>\n",
       "      <td>986.21</td>\n",
       "      <td>14.99</td>\n",
       "      <td>289.30</td>\n",
       "      <td>6.70</td>\n",
       "      <td>57.54</td>\n",
       "      <td>17.07</td>\n",
       "      <td>9.82</td>\n",
       "      <td>7.25</td>\n",
       "      <td>6.22</td>\n",
       "      <td>9.96</td>\n",
       "      <td>1187.80</td>\n",
       "      <td>2.79</td>\n",
       "      <td>4.75</td>\n",
       "      <td>202.5</td>\n",
       "    </tr>\n",
       "    <tr>\n",
       "      <th>50222</th>\n",
       "      <td>2014-09-24 15:00:00</td>\n",
       "      <td>984.76</td>\n",
       "      <td>15.20</td>\n",
       "      <td>289.63</td>\n",
       "      <td>6.96</td>\n",
       "      <td>57.79</td>\n",
       "      <td>17.30</td>\n",
       "      <td>10.00</td>\n",
       "      <td>7.30</td>\n",
       "      <td>6.34</td>\n",
       "      <td>10.15</td>\n",
       "      <td>1185.10</td>\n",
       "      <td>2.86</td>\n",
       "      <td>4.32</td>\n",
       "      <td>172.0</td>\n",
       "    </tr>\n",
       "    <tr>\n",
       "      <th>50223</th>\n",
       "      <td>2014-09-24 16:00:00</td>\n",
       "      <td>984.61</td>\n",
       "      <td>14.40</td>\n",
       "      <td>288.84</td>\n",
       "      <td>7.00</td>\n",
       "      <td>61.03</td>\n",
       "      <td>16.43</td>\n",
       "      <td>10.03</td>\n",
       "      <td>6.40</td>\n",
       "      <td>6.36</td>\n",
       "      <td>10.18</td>\n",
       "      <td>1188.20</td>\n",
       "      <td>1.71</td>\n",
       "      <td>2.44</td>\n",
       "      <td>195.1</td>\n",
       "    </tr>\n",
       "  </tbody>\n",
       "</table>\n",
       "<p>50224 rows × 15 columns</p>\n",
       "</div>"
      ],
      "text/plain": [
       "                  datetime  p (mbar)  T (degC)  Tpot (K)  Tdew (degC)  rh (%)  \\\n",
       "0      2009-01-01 01:00:00    996.50     -8.05    265.38        -8.78   94.40   \n",
       "1      2009-01-01 02:00:00    996.62     -8.88    264.54        -9.77   93.20   \n",
       "2      2009-01-01 03:00:00    996.84     -8.81    264.59        -9.66   93.50   \n",
       "3      2009-01-01 04:00:00    996.99     -9.05    264.34       -10.02   92.60   \n",
       "4      2009-01-01 05:00:00    997.46     -9.63    263.72       -10.65   92.20   \n",
       "...                    ...       ...       ...       ...          ...     ...   \n",
       "50219  2014-09-24 12:00:00    987.01     13.69    287.92         6.29   60.85   \n",
       "50220  2014-09-24 13:00:00    986.55     14.19    288.47         6.80   61.01   \n",
       "50221  2014-09-24 14:00:00    986.21     14.99    289.30         6.70   57.54   \n",
       "50222  2014-09-24 15:00:00    984.76     15.20    289.63         6.96   57.79   \n",
       "50223  2014-09-24 16:00:00    984.61     14.40    288.84         7.00   61.03   \n",
       "\n",
       "       VPmax (mbar)  VPact (mbar)  VPdef (mbar)  sh (g/kg)  H2OC (mmol/mol)  \\\n",
       "0              3.33          3.14          0.19       1.96             3.15   \n",
       "1              3.12          2.90          0.21       1.81             2.91   \n",
       "2              3.13          2.93          0.20       1.83             2.94   \n",
       "3              3.07          2.85          0.23       1.78             2.85   \n",
       "4              2.94          2.71          0.23       1.69             2.71   \n",
       "...             ...           ...           ...        ...              ...   \n",
       "50219         15.69          9.55          6.14       6.04             9.67   \n",
       "50220         16.21          9.89          6.32       6.26            10.02   \n",
       "50221         17.07          9.82          7.25       6.22             9.96   \n",
       "50222         17.30         10.00          7.30       6.34            10.15   \n",
       "50223         16.43         10.03          6.40       6.36            10.18   \n",
       "\n",
       "       rho (g/m**3)  wv (m/s)  max. wv (m/s)  wd (deg)  \n",
       "0           1307.86      0.21           0.63     192.7  \n",
       "1           1312.25      0.25           0.63     190.3  \n",
       "2           1312.18      0.18           0.63     167.2  \n",
       "3           1313.61      0.10           0.38     240.0  \n",
       "4           1317.19      0.40           0.88     157.0  \n",
       "...             ...       ...            ...       ...  \n",
       "50219       1194.28      2.92           4.00     174.1  \n",
       "50220       1191.48      1.57           2.48     173.0  \n",
       "50221       1187.80      2.79           4.75     202.5  \n",
       "50222       1185.10      2.86           4.32     172.0  \n",
       "50223       1188.20      1.71           2.44     195.1  \n",
       "\n",
       "[50224 rows x 15 columns]"
      ]
     },
     "execution_count": 5,
     "metadata": {},
     "output_type": "execute_result"
    }
   ],
   "source": [
    "import pandas as pd\n",
    "import matplotlib.pyplot as plt\n",
    "\n",
    "# Leer set de datos\n",
    "df = pd.read_csv('weather_dataset_preprocesado.csv')\n",
    "df"
   ]
  },
  {
   "cell_type": "markdown",
   "metadata": {
    "id": "tuxqv521qxMk"
   },
   "source": [
    "Originalmente el dataset contiene 50.278 registros y 15 variables."
   ]
  },
  {
   "cell_type": "markdown",
   "metadata": {
    "id": "vd5lyqNrlfFg"
   },
   "source": [
    "## 5. Procesamiento inicial del dataset\n",
    "\n",
    "El primer paso consiste en convertir la columna *Date Time* del formato *object* (string + datos numéricos) al formato *datetime*.\n",
    "\n",
    "Esto facilitará la visualización del set de datos y el análisis exploratorio, así como el pre-procesamiento:"
   ]
  },
  {
   "cell_type": "code",
   "execution_count": null,
   "metadata": {
    "colab": {
     "base_uri": "https://localhost:8080/"
    },
    "id": "Z7sCnO5a9IIQ",
    "outputId": "276ed068-0772-495e-c539-662f960f56cf"
   },
   "outputs": [],
   "source": [
    "# Verifiquemos que el tipo de dato es \"object\"\n",
    "df['Date Time'].dtype"
   ]
  },
  {
   "cell_type": "code",
   "execution_count": null,
   "metadata": {
    "colab": {
     "base_uri": "https://localhost:8080/",
     "height": 690
    },
    "id": "GX6hEln-9fP_",
    "outputId": "54f288b4-18a6-426a-d6fc-e86e6ae330a0"
   },
   "outputs": [],
   "source": [
    "# Pasar la columna \"Date Time\" al formato datetime\n",
    "df['datetime'] = pd.to_datetime(\n",
    "    df['Date Time'],\n",
    "    format = '%d.%m.%Y %H:%M:%S'\n",
    ")\n",
    "\n",
    "# Fijemos esta nueva columna como índice del DataFrame\n",
    "df = df.set_index('datetime')\n",
    "\n",
    "# Ordenemos el dataset de forma ascendente según \"datetime\"\n",
    "df.sort_index(inplace=True)\n",
    "\n",
    "# Y finalmente eliminemos la columna \"Date Time\" original\n",
    "df = df.drop(columns=['Date Time'])\n",
    "df"
   ]
  },
  {
   "cell_type": "markdown",
   "metadata": {
    "id": "agblCRwTm6l0"
   },
   "source": [
    "## 6. Análisis exploratorio\n",
    "\n",
    "El primer paso en este análisis es entender las [variables de nuestro dataset](https://www.bgc-jena.mpg.de/wetter/Weatherstation.pdf):\n",
    "\n",
    "- *p (mbar)*: presión del aire en milibars\n",
    "- *T (degC)*: temperatura del aire en °C\n",
    "- *Tpot (K)*: temperatura potencial\n",
    "- *Tdew (degC)*: temperatura de punto de rocío (a la cual el vapor de agua se condensa)\n",
    "- *rh (%)*: humedad relativa\n",
    "- *VPmax (mbar)*: presión de vapor de agua de saturación\n",
    "- *VPact (mbar)*: presión de vapor de agua real\n",
    "- *VPdef (mbar)*: déficit de presión de vapor de agua\n",
    "- *sh (g/kg)*: humedad específica\n",
    "- *H2OC (mmol/mol)*: nivel de concentración del vapor de agua\n",
    "- *rho (g/m**3)*: densidad del aire\n",
    "- *wv (m/s)*: velocidad del viento\n",
    "- *max. wv (m/s)*: velocidad del viento máxima\n",
    "- *wd (deg)*: dirección del viento\n",
    "\n",
    "Tendremos dos tipos de variables al momento de implementar los modelos LSTM:\n",
    "\n",
    "- Variable a predecir: la variable a pronosticar (salida del modelo LSTM). En este caso es *T (degC)*\n",
    "- Variables predictoras (o covariables): las variables de entrada al modelo LSTM a partir de las cuales se realizará la predicción.\n",
    "  - Puede incluir la variable a predecir (*T (degC)*)\n",
    "  - Puede incluir la variable tiempo (columna *datetime*)"
   ]
  },
  {
   "cell_type": "code",
   "execution_count": null,
   "metadata": {
    "colab": {
     "base_uri": "https://localhost:8080/",
     "height": 1000
    },
    "id": "-dqJPg1o-s8c",
    "outputId": "ec8b73da-d91f-4928-dd65-9ba977c50cdd"
   },
   "outputs": [],
   "source": [
    "# Dibujemos nuestras variables\n",
    "cols = df.columns\n",
    "\n",
    "# N = 24*30*12 # Dibujar 1 año continuo\n",
    "N = df.shape[0]\n",
    "plots = df[cols][0:N]\n",
    "plots.index = df.index[0:N]\n",
    "_ = plots.plot(subplots=True, figsize=(12,16))"
   ]
  },
  {
   "cell_type": "markdown",
   "metadata": {
    "id": "YkOnkQ3UrZNL"
   },
   "source": [
    "**Observaciones**:\n",
    "- Las variables tienen diferentes rangos de amplitud. Antes de llevar los datos a la Red LSTM debemos escalarlas/estandarizarlas.\n",
    "- Al parecer existe un *outlier* en la presión (aproximadamente 950 mbars). Sin embargo este dato es normal, pues la presión puede variar entre 100 y 1.050"
   ]
  },
  {
   "cell_type": "markdown",
   "metadata": {
    "id": "b8cDwNdPsAwq"
   },
   "source": [
    "El segundo paso es verificar si existen datos faltantes:"
   ]
  },
  {
   "cell_type": "code",
   "execution_count": null,
   "metadata": {
    "colab": {
     "base_uri": "https://localhost:8080/"
    },
    "id": "Um4ALYTWsCfW",
    "outputId": "c6fef4e3-f2c9-4c0f-bfc6-caa5ccccbd67"
   },
   "outputs": [],
   "source": [
    "# Verificar si hay datos faltantes\n",
    "print('Cantidad de NaNs:')\n",
    "for column in df:\n",
    "    nans = df[column].isna().sum()\n",
    "    print(f'\\tColumna {column}: {nans}')"
   ]
  },
  {
   "cell_type": "markdown",
   "metadata": {
    "id": "WPfkuurysgqR"
   },
   "source": [
    "Las columnas *VPmax (mbar)*, *H2OC (mmol/mol)* y *rho (g/m**3)* tienen datos faltantes. En un momento realizaremos el manejo de estos datos."
   ]
  },
  {
   "cell_type": "markdown",
   "metadata": {
    "id": "1umGoCMhtJ9x"
   },
   "source": [
    "El tercer paso es garantizar que la periodicidad de las muestras es exactamente de 1 hora:"
   ]
  },
  {
   "cell_type": "code",
   "execution_count": null,
   "metadata": {
    "colab": {
     "base_uri": "https://localhost:8080/"
    },
    "id": "VpED2q4MtWnJ",
    "outputId": "911992be-615f-4e08-ed8f-83883a120d54"
   },
   "outputs": [],
   "source": [
    "# Verificar si la periodicidad de las muestras es exactamente\n",
    "# 1 hora (3600 secs)\n",
    "\n",
    "# Calcular diferencias (en segundos) entre cada par de datos\n",
    "# consecutivos\n",
    "df_time_diffs = df.index.to_series().diff().dt.total_seconds()\n",
    "print(df_time_diffs.value_counts())"
   ]
  },
  {
   "cell_type": "markdown",
   "metadata": {
    "id": "OThGTin-tdI2"
   },
   "source": [
    "Vemos que:\n",
    "\n",
    "- 61 pares de registros tienen diferencias de 1.800 s (30 min)\n",
    "- 24 pares de registros tienen diferencias de 0.0 s\n",
    "- 2 pares de registros tienen diferencias de 4200 s (1.16 hrs)\n",
    "- 1 par de registros tiene diferencias de 4.800 s (1.3 hrs)\n",
    "\n",
    "En un momento veremos cómo corregir este comportamiento."
   ]
  },
  {
   "cell_type": "markdown",
   "metadata": {
    "id": "VTf7ia-cy5PB"
   },
   "source": [
    "## 7. Pre-procesamiento\n",
    "\n",
    "Realizaremos dos tareas:\n",
    "- Manejo de datos faltantes\n",
    "- Ajuste de la periodicidad del dataset"
   ]
  },
  {
   "cell_type": "markdown",
   "metadata": {
    "id": "O5yDL3e_yn9A"
   },
   "source": [
    "### 7.1. Manejo de datos faltantes\n",
    "\n",
    "Dado el reducido número de datos faltantes, podemos usar una simple interpolación para completarlos:"
   ]
  },
  {
   "cell_type": "code",
   "execution_count": null,
   "metadata": {
    "colab": {
     "base_uri": "https://localhost:8080/"
    },
    "id": "wMyR_hfQswBo",
    "outputId": "e991ad11-018e-4c60-e3dc-f69dd8fdde6f"
   },
   "outputs": [],
   "source": [
    "# Interpolación lineal para completar datos faltantes\n",
    "columns = ['VPmax (mbar)', 'H2OC (mmol/mol)', 'rho (g/m**3)']\n",
    "\n",
    "for column in columns:\n",
    "    df[column] = df[column].interpolate(method='linear')\n",
    "\n",
    "# Verificar que no hay datos faltantes\n",
    "print('Cantidad de NaNs:')\n",
    "for column in df:\n",
    "    nans = df[column].isna().sum()\n",
    "    print(f'\\tColumna {column}: {nans}')"
   ]
  },
  {
   "cell_type": "markdown",
   "metadata": {
    "id": "0Ijb17jNzL9k"
   },
   "source": [
    "### 7.2. Ajuste de la periodicidad del dataset\n",
    "\n",
    "Recordemos que hay:\n",
    "\n",
    "- 61 pares de registros con diferencias de 1.800 s (30 min)\n",
    "- 24 pares de registros con diferencias de 0.0 s\n",
    "- 2 pares de registros con diferencias de 4200 s (1.16 hrs)\n",
    "- 1 par de registros con diferencias de 4.800 s (1.3 hrs)\n",
    "\n",
    "\n",
    "Corrijamos los pares de registros con diferencias de 0.0s que son simplemente registros repetidos:"
   ]
  },
  {
   "cell_type": "code",
   "execution_count": null,
   "metadata": {
    "colab": {
     "base_uri": "https://localhost:8080/"
    },
    "id": "oLAmhcmSuHRb",
    "outputId": "85f61749-1dae-44b9-96ec-542fb351e963"
   },
   "outputs": [],
   "source": [
    "# Eliminar duplicados para corregir el problema de diferencias\n",
    "# de 0.0 s\n",
    "df.drop_duplicates(keep='first', inplace=True, ignore_index=False)\n",
    "\n",
    "# Y verificar que han sido eliminados\n",
    "df_time_diffs = df.index.to_series().diff().dt.total_seconds()\n",
    "print(df_time_diffs.value_counts())"
   ]
  },
  {
   "cell_type": "markdown",
   "metadata": {
    "id": "NrM41ViEzkWc"
   },
   "source": [
    "Y ahora corrijamos los datos restantes para garantizar que entre pares de datos consecutivos habrá una periodicidad de 1 hora.\n",
    "\n",
    "Usaremos el método *asfreq* de Pandas. Como aparecerán nuevos datos, usaremos el método *bfill* para rellenar estos nuevos datos:"
   ]
  },
  {
   "cell_type": "code",
   "execution_count": null,
   "metadata": {
    "colab": {
     "base_uri": "https://localhost:8080/"
    },
    "id": "0nTmm-TYufAb",
    "outputId": "5ddc0b8c-6a53-4de4-ca5a-27d17ef51920"
   },
   "outputs": [],
   "source": [
    "# Reinterpolar el dataset con una periodicidad de 1 hora\n",
    "df2 = df.asfreq(freq='H', method='bfill')\n",
    "\n",
    "# Y verificar que la totalidad del dataset tiene esta periodicidad\n",
    "df_time_diffs = df2.index.to_series().diff().dt.total_seconds()\n",
    "print(df_time_diffs.value_counts())"
   ]
  },
  {
   "cell_type": "code",
   "execution_count": null,
   "metadata": {
    "colab": {
     "base_uri": "https://localhost:8080/"
    },
    "id": "-UMvvkCPxbrz",
    "outputId": "063dd033-d992-4d06-da27-b7643a094ca3"
   },
   "outputs": [],
   "source": [
    "# Verificar que el dataset resultante no contiene NaNs:\n",
    "print('Cantidad de NaNs:')\n",
    "for column in df:\n",
    "    nans = df2[column].isna().sum()\n",
    "    print(f'\\tColumna {column}: {nans}')"
   ]
  },
  {
   "cell_type": "code",
   "execution_count": null,
   "metadata": {
    "colab": {
     "base_uri": "https://localhost:8080/"
    },
    "id": "fgwkmHcgx5mp",
    "outputId": "83d93d67-2b78-4962-c152-b858ad09b312"
   },
   "outputs": [],
   "source": [
    "# Y finalmente verificar las columnas originales y modificadas\n",
    "# para constatar que los valores promedio no cambian\n",
    "\n",
    "for column in df:\n",
    "    print(f'Promedios original/modificado: {df[column].mean():.2f}/{df2[column].mean():.2f}')"
   ]
  },
  {
   "cell_type": "markdown",
   "metadata": {
    "id": "K0UTWh3d0NXw"
   },
   "source": [
    "En este punto ya contamos con un dataset íntegro (no contiene datos faltantes ni *outliers* y tiene una periodicidad de 1 hora).\n",
    "\n",
    "Solo nos resta guardarlo:"
   ]
  },
  {
   "cell_type": "code",
   "execution_count": null,
   "metadata": {
    "id": "tmgPk5D20V9Q"
   },
   "outputs": [],
   "source": [
    "df2.to_csv(ruta+'weather_dataset_preprocesado.csv')"
   ]
  },
  {
   "cell_type": "markdown",
   "metadata": {
    "id": "Vkg8weU_0jHD"
   },
   "source": [
    "## 8. Conclusión\n",
    "\n",
    "Aunque cada proyecto tendrá sus particularidades, en general el análisis exploratorio y pre-procesamiento de la serie de tiempo requerido para trabajar con Redes LSTM implica:\n",
    "\n",
    "- Entender las variables que ingresarán al modelo (variable a predecir y variables predictoras)\n",
    "- Realizar el manejo de datos faltantes (si existen) y *outliers* (si existen)\n",
    "- Garantizar que entre muestras consecutivas existe la misma periodicidad\n",
    "\n",
    "Este dataset será el punto de partida para todos los modelos de Redes LSTM que implementaremos más adelante, comenzando en el próximo video con el modelo más simple: univariado + uni-step.\n"
   ]
  }
 ],
 "metadata": {
  "colab": {
   "provenance": []
  },
  "kernelspec": {
   "display_name": "Python 3 (ipykernel)",
   "language": "python",
   "name": "python3"
  },
  "language_info": {
   "codemirror_mode": {
    "name": "ipython",
    "version": 3
   },
   "file_extension": ".py",
   "mimetype": "text/x-python",
   "name": "python",
   "nbconvert_exporter": "python",
   "pygments_lexer": "ipython3",
   "version": "3.11.4"
  }
 },
 "nbformat": 4,
 "nbformat_minor": 1
}
